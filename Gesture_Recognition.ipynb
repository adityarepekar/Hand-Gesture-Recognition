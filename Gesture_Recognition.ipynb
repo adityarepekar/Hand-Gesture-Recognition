{
 "cells": [
  {
   "cell_type": "markdown",
   "metadata": {},
   "source": [
    "# Gesture Recognition\n"
   ]
  },
  {
   "cell_type": "markdown",
   "metadata": {},
   "source": [
    "This Notebook is divided into 2 parts \n",
    "\n",
    "1. Experiments with different parameters, batch size, epochs, filter size and image resolution\n",
    "2. Final notebook\n"
   ]
  },
  {
   "cell_type": "markdown",
   "metadata": {},
   "source": [
    "# 1. Experiments :"
   ]
  },
  {
   "cell_type": "markdown",
   "metadata": {},
   "source": [
    "#### IMPORTING LIBRARIES"
   ]
  },
  {
   "cell_type": "code",
   "execution_count": 1,
   "metadata": {},
   "outputs": [],
   "source": [
    "import numpy as np\n",
    "import os\n",
    "from imageio import imread\n",
    "from skimage.transform import resize\n",
    "import datetime\n",
    "import warnings\n",
    "warnings.filterwarnings(\"ignore\")\n",
    "import abc\n",
    "from sys import getsizeof\n",
    "\n",
    "import cv2\n",
    "import matplotlib.pyplot as plt\n",
    "%matplotlib inline\n",
    "\n",
    "# importing some other libraries which will be needed for model building.\n",
    "\n",
    "from keras.models import Sequential, Model\n",
    "from keras.layers import Dense, GRU, Flatten, TimeDistributed, Flatten, BatchNormalization, Activation\n",
    "from keras.layers.convolutional import Conv3D, MaxPooling3D, Conv2D, MaxPooling2D\n",
    "from keras.layers.recurrent import LSTM\n",
    "from keras.callbacks import ModelCheckpoint, ReduceLROnPlateau, EarlyStopping\n",
    "from keras import optimizers\n",
    "from keras.layers import Dropout\n"
   ]
  },
  {
   "cell_type": "markdown",
   "metadata": {},
   "source": [
    "We set the random seed so that the results don't vary drastically."
   ]
  },
  {
   "cell_type": "code",
   "execution_count": 2,
   "metadata": {},
   "outputs": [],
   "source": [
    "np.random.seed(30)\n",
    "import random as rn\n",
    "rn.seed(30)\n",
    "from tensorflow import keras\n",
    "import tensorflow as tf\n",
    "tf.random.set_seed(30)"
   ]
  },
  {
   "cell_type": "markdown",
   "metadata": {},
   "source": [
    "In this block, you read the folder names for training and validation. You also set the `batch_size` here. Note that you set the batch size in such a way that you are able to use the GPU in full capacity. You keep increasing the batch size until the machine throws an error."
   ]
  },
  {
   "cell_type": "code",
   "execution_count": 3,
   "metadata": {},
   "outputs": [],
   "source": [
    "project_folder='/home/datasets/Project_data'"
   ]
  },
  {
   "cell_type": "code",
   "execution_count": 4,
   "metadata": {},
   "outputs": [],
   "source": [
    "# function to plot the training/validation accuracies/losses.\n",
    "\n",
    "def plot(history):\n",
    "    fig, axes = plt.subplots(nrows=1, ncols=2, figsize=(15,4))\n",
    "    axes[0].plot(history.history['loss'])   \n",
    "    axes[0].plot(history.history['val_loss'])\n",
    "    axes[0].legend(['loss','val_loss'])\n",
    "\n",
    "    axes[1].plot(history.history['categorical_accuracy'])   \n",
    "    axes[1].plot(history.history['val_categorical_accuracy'])\n",
    "    axes[1].legend(['categorical_accuracy','val_categorical_accuracy'])"
   ]
  },
  {
   "cell_type": "markdown",
   "metadata": {},
   "source": [
    "Note here that a video is represented above in the generator as (number of images, height, width, number of channels). Take this into consideration while creating the model architecture."
   ]
  },
  {
   "cell_type": "markdown",
   "metadata": {},
   "source": [
    "## Generator\n",
    "This is one of the most important part of the code. The overall structure of the generator has been given. In the generator, you are going to preprocess the images as you have images of 2 different dimensions as well as create a batch of video frames. You have to experiment with `img_idx`, `y`,`z` and normalization such that you get high accuracy."
   ]
  },
  {
   "cell_type": "code",
   "execution_count": 18,
   "metadata": {},
   "outputs": [],
   "source": [
    "class ModelBuilder(metaclass= abc.ABCMeta):\n",
    "    \n",
    "    \n",
    "    # initialisng the path where project data resides\n",
    "    def initialize_path(self,project_folder):\n",
    "        self.train_doc = np.random.permutation(open(project_folder + '/' + 'train.csv').readlines())\n",
    "        self.val_doc = np.random.permutation(open(project_folder + '/' + 'val.csv').readlines())\n",
    "        self.train_path = project_folder + '/' + 'train'\n",
    "        self.val_path =  project_folder + '/' + 'val'\n",
    "        self.num_train_sequences = len(self.train_doc)\n",
    "        self.num_val_sequences = len(self.val_doc)\n",
    "    \n",
    "    \n",
    "    # initialising the image properties    \n",
    "    def initialize_image_properties(self,image_height=100,image_width=100):\n",
    "        self.image_height=image_height\n",
    "        self.image_width=image_width\n",
    "        self.channels=3\n",
    "        self.num_classes=5\n",
    "        self.total_frames=30\n",
    "    \n",
    "    \n",
    "    # initialising the batch size, frames to sample and the no. of epochs\n",
    "    def initialize_hyperparams(self,frames_to_sample=30,batch_size=20,num_epochs=20):\n",
    "        self.frames_to_sample=frames_to_sample\n",
    "        self.batch_size=batch_size\n",
    "        self.num_epochs=num_epochs\n",
    "        \n",
    "    \n",
    "    \n",
    "    # THE GENERATOR FUNCTION\n",
    "    \n",
    "    \n",
    "    \n",
    "    def generator(self,source_path, folder_list, augment=False):\n",
    "        img_idx = np.round(np.linspace(0,self.total_frames-1,self.frames_to_sample)).astype(int)\n",
    "        batch_size=self.batch_size\n",
    "        while True:\n",
    "            t = np.random.permutation(folder_list)\n",
    "            num_batches = len(t)//batch_size\n",
    "        \n",
    "            for batch in range(num_batches): \n",
    "                batch_data, batch_labels= self.one_batch_data(source_path,t,batch,batch_size,img_idx,augment)\n",
    "                yield batch_data, batch_labels \n",
    "\n",
    "            remaining_seq=len(t)%batch_size\n",
    "        \n",
    "            if (remaining_seq != 0):\n",
    "                batch_data, batch_labels= self.one_batch_data(source_path,t,num_batches,batch_size,img_idx,augment,remaining_seq)\n",
    "                yield batch_data, batch_labels \n",
    "    \n",
    "    \n",
    "    def one_batch_data(self,source_path,t,batch,batch_size,img_idx,augment,remaining_seq=0):\n",
    "    \n",
    "        seq_len = remaining_seq if remaining_seq else batch_size\n",
    "    \n",
    "        batch_data = np.zeros((seq_len,len(img_idx),self.image_height,self.image_width,self.channels)) \n",
    "        batch_labels = np.zeros((seq_len,self.num_classes)) \n",
    "    \n",
    "        if (augment): batch_data_aug = np.zeros((seq_len,len(img_idx),self.image_height,self.image_width,self.channels))\n",
    "\n",
    "        \n",
    "        for folder in range(seq_len): \n",
    "            imgs = os.listdir(source_path+'/'+ t[folder + (batch*batch_size)].split(';')[0]) \n",
    "            for idx,item in enumerate(img_idx):\n",
    "                #performing image reading and resizing\n",
    "                image = imread(source_path+'/'+ t[folder + (batch*batch_size)].strip().split(';')[0]+'/'+imgs[item]).astype(np.float32)\n",
    "                image_resized=resize(image,(self.image_height,self.image_width,3))\n",
    "            \n",
    "                #normalizing the images\n",
    "                batch_data[folder,idx,:,:,0] = (image_resized[:,:,0])/255\n",
    "                batch_data[folder,idx,:,:,1] = (image_resized[:,:,1])/255\n",
    "                batch_data[folder,idx,:,:,2] = (image_resized[:,:,2])/255\n",
    "            \n",
    "                if (augment):\n",
    "                    shifted = cv2.warpAffine(image, \n",
    "                                             np.float32([[1, 0, np.random.randint(-30,30)],[0, 1, np.random.randint(-30,30)]]), \n",
    "                                            (image.shape[1], image.shape[0]))\n",
    "                    \n",
    "                    gray = cv2.cvtColor(shifted,cv2.COLOR_BGR2GRAY)\n",
    "\n",
    "                    x0, y0 = np.argwhere(gray > 0).min(axis=0)\n",
    "                    x1, y1 = np.argwhere(gray > 0).max(axis=0) \n",
    "                    # cropping the images to have the targeted gestures and remove the noise from the images.\n",
    "                    cropped=shifted[x0:x1,y0:y1,:]\n",
    "                    \n",
    "                    image_resized=resize(cropped,(self.image_height,self.image_width,3))\n",
    "                    \n",
    "                    #shifted = cv2.warpAffine(image_resized, \n",
    "                    #                        np.float32([[1, 0, np.random.randint(-3,3)],[0, 1, np.random.randint(-3,3)]]), \n",
    "                    #                        (image_resized.shape[1], image_resized.shape[0]))\n",
    "            \n",
    "                    batch_data_aug[folder,idx,:,:,0] = (image_resized[:,:,0])/255\n",
    "                    batch_data_aug[folder,idx,:,:,1] = (image_resized[:,:,1])/255\n",
    "                    batch_data_aug[folder,idx,:,:,2] = (image_resized[:,:,2])/255\n",
    "                \n",
    "            \n",
    "            batch_labels[folder, int(t[folder + (batch*batch_size)].strip().split(';')[2])] = 1\n",
    "            \n",
    "    \n",
    "        if (augment):\n",
    "            batch_data=np.concatenate([batch_data,batch_data_aug])\n",
    "            batch_labels=np.concatenate([batch_labels,batch_labels])\n",
    "\n",
    "        \n",
    "        return(batch_data,batch_labels)\n",
    "    \n",
    "    \n",
    "    def train_model(self, model, augment_data=False):\n",
    "        train_generator = self.generator(self.train_path, self.train_doc,augment=augment_data)\n",
    "        val_generator = self.generator(self.val_path, self.val_doc)\n",
    "\n",
    "        model_name = 'model_init' + '_' + str(datetime.datetime.now()).replace(' ','').replace(':','_') + '/'\n",
    "    \n",
    "        if not os.path.exists(model_name):\n",
    "            os.mkdir(model_name)\n",
    "        \n",
    "        filepath = model_name + 'model-{epoch:05d}-{loss:.5f}-{categorical_accuracy:.5f}-{val_loss:.5f}-{val_categorical_accuracy:.5f}.h5'\n",
    "\n",
    "        checkpoint = ModelCheckpoint(filepath, monitor='val_loss', verbose=1, save_best_only=False, save_weights_only=False, mode='auto', period=1)\n",
    "        LR = ReduceLROnPlateau(monitor='val_loss', factor=0.2, verbose=1, patience=4)\n",
    "        \n",
    "        earlystop = EarlyStopping( monitor=\"val_loss\", min_delta=0,patience=10,verbose=1)\n",
    "        callbacks_list = [checkpoint, LR, earlystop]\n",
    "\n",
    "        if (self.num_train_sequences%self.batch_size) == 0:\n",
    "            steps_per_epoch = int(self.num_train_sequences/self.batch_size)\n",
    "        else:\n",
    "            steps_per_epoch = (self.num_train_sequences//self.batch_size) + 1\n",
    "\n",
    "        if (self.num_val_sequences%self.batch_size) == 0:\n",
    "            validation_steps = int(self.num_val_sequences/self.batch_size)\n",
    "        else:\n",
    "            validation_steps = (self.num_val_sequences//self.batch_size) + 1\n",
    "    \n",
    "        history=model.fit_generator(train_generator, steps_per_epoch=steps_per_epoch, epochs=self.num_epochs, verbose=1, \n",
    "                            callbacks=callbacks_list, validation_data=val_generator, \n",
    "                            validation_steps=validation_steps, class_weight=None, workers=1, initial_epoch=0)\n",
    "        return history\n",
    "\n",
    "        \n",
    "    @abc.abstractmethod\n",
    "    def define_model(self):\n",
    "        pass"
   ]
  },
  {
   "cell_type": "markdown",
   "metadata": {},
   "source": [
    "## Model building\n",
    "Here you make the model using different functionalities that Keras provides. Remember to use `Conv3D` and `MaxPooling3D` and not `Conv2D` and `Maxpooling2D` for a 3D convolution model. You would want to use `TimeDistributed` while building a Conv2D + RNN model. Also remember that the last layer is the softmax. Design the network in such a way that the model is able to give good accuracy on the least number of parameters so that it can fit in the memory of the webcam."
   ]
  },
  {
   "cell_type": "markdown",
   "metadata": {},
   "source": [
    "Let us now fit the model. This will start training the model and with the help of the checkpoints, you'll be able to save the model at the end of each epoch."
   ]
  },
  {
   "cell_type": "code",
   "execution_count": 6,
   "metadata": {},
   "outputs": [],
   "source": [
    "class ModelConv3D1(ModelBuilder):\n",
    "    \n",
    "    def define_model(self):\n",
    "\n",
    "        model = Sequential()\n",
    "        model.add(Conv3D(16, (3, 3, 3), padding='same',\n",
    "                 input_shape=(self.frames_to_sample,self.image_height,self.image_width,self.channels)))\n",
    "        model.add(Activation('relu'))\n",
    "        model.add(BatchNormalization())\n",
    "        model.add(MaxPooling3D(pool_size=(2, 2, 2)))\n",
    "\n",
    "        model.add(Conv3D(32, (2, 2, 2), padding='same'))\n",
    "        model.add(Activation('relu'))\n",
    "        model.add(BatchNormalization())\n",
    "        model.add(MaxPooling3D(pool_size=(2, 2, 2)))\n",
    "\n",
    "        model.add(Conv3D(64, (2, 2, 2), padding='same'))\n",
    "        model.add(Activation('relu'))\n",
    "        model.add(BatchNormalization())\n",
    "        model.add(MaxPooling3D(pool_size=(2, 2, 2)))\n",
    "\n",
    "        model.add(Conv3D(128, (2, 2, 2), padding='same'))\n",
    "        model.add(Activation('relu'))\n",
    "        model.add(BatchNormalization())\n",
    "        model.add(MaxPooling3D(pool_size=(2, 2, 2)))\n",
    "\n",
    "        model.add(Flatten())\n",
    "        model.add(Dense(128,activation='relu'))\n",
    "        model.add(BatchNormalization())\n",
    "        model.add(Dropout(0.5))\n",
    "\n",
    "        model.add(Dense(64,activation='relu'))\n",
    "        model.add(BatchNormalization())\n",
    "        model.add(Dropout(0.25))\n",
    "\n",
    "\n",
    "        model.add(Dense(self.num_classes,activation='softmax'))\n",
    "\n",
    "        optimiser = tf.keras.optimizers.Adam()\n",
    "        #optimiser = 'sgd'\n",
    "        model.compile(optimizer=optimiser, loss='categorical_crossentropy', metrics=['categorical_accuracy'])\n",
    "        return model"
   ]
  },
  {
   "cell_type": "code",
   "execution_count": 7,
   "metadata": {},
   "outputs": [],
   "source": [
    "from keras.models import Sequential, Model\n",
    "from keras.layers import Dense, GRU, Flatten, TimeDistributed, Flatten, BatchNormalization, Activation\n",
    "from keras.layers.convolutional import Conv3D, MaxPooling3D, Conv2D, MaxPooling2D\n",
    "from keras.layers.recurrent import LSTM\n",
    "from keras.callbacks import ModelCheckpoint, ReduceLROnPlateau, EarlyStopping\n",
    "from keras import optimizers\n",
    "from keras.layers import Dropout"
   ]
  },
  {
   "cell_type": "code",
   "execution_count": 8,
   "metadata": {},
   "outputs": [
    {
     "name": "stdout",
     "output_type": "stream",
     "text": [
      "Model: \"sequential\"\n",
      "_________________________________________________________________\n",
      " Layer (type)                Output Shape              Param #   \n",
      "=================================================================\n",
      " conv3d (Conv3D)             (None, 30, 160, 160, 16)  1312      \n",
      "                                                                 \n",
      " activation (Activation)     (None, 30, 160, 160, 16)  0         \n",
      "                                                                 \n",
      " batch_normalization (BatchN  (None, 30, 160, 160, 16)  64       \n",
      " ormalization)                                                   \n",
      "                                                                 \n",
      " max_pooling3d (MaxPooling3D  (None, 15, 80, 80, 16)   0         \n",
      " )                                                               \n",
      "                                                                 \n",
      " conv3d_1 (Conv3D)           (None, 15, 80, 80, 32)    4128      \n",
      "                                                                 \n",
      " activation_1 (Activation)   (None, 15, 80, 80, 32)    0         \n",
      "                                                                 \n",
      " batch_normalization_1 (Batc  (None, 15, 80, 80, 32)   128       \n",
      " hNormalization)                                                 \n",
      "                                                                 \n",
      " max_pooling3d_1 (MaxPooling  (None, 7, 40, 40, 32)    0         \n",
      " 3D)                                                             \n",
      "                                                                 \n",
      " conv3d_2 (Conv3D)           (None, 7, 40, 40, 64)     16448     \n",
      "                                                                 \n",
      " activation_2 (Activation)   (None, 7, 40, 40, 64)     0         \n",
      "                                                                 \n",
      " batch_normalization_2 (Batc  (None, 7, 40, 40, 64)    256       \n",
      " hNormalization)                                                 \n",
      "                                                                 \n",
      " max_pooling3d_2 (MaxPooling  (None, 3, 20, 20, 64)    0         \n",
      " 3D)                                                             \n",
      "                                                                 \n",
      " conv3d_3 (Conv3D)           (None, 3, 20, 20, 128)    65664     \n",
      "                                                                 \n",
      " activation_3 (Activation)   (None, 3, 20, 20, 128)    0         \n",
      "                                                                 \n",
      " batch_normalization_3 (Batc  (None, 3, 20, 20, 128)   512       \n",
      " hNormalization)                                                 \n",
      "                                                                 \n",
      " max_pooling3d_3 (MaxPooling  (None, 1, 10, 10, 128)   0         \n",
      " 3D)                                                             \n",
      "                                                                 \n",
      " flatten (Flatten)           (None, 12800)             0         \n",
      "                                                                 \n",
      " dense (Dense)               (None, 128)               1638528   \n",
      "                                                                 \n",
      " batch_normalization_4 (Batc  (None, 128)              512       \n",
      " hNormalization)                                                 \n",
      "                                                                 \n",
      " dropout (Dropout)           (None, 128)               0         \n",
      "                                                                 \n",
      " dense_1 (Dense)             (None, 64)                8256      \n",
      "                                                                 \n",
      " batch_normalization_5 (Batc  (None, 64)               256       \n",
      " hNormalization)                                                 \n",
      "                                                                 \n",
      " dropout_1 (Dropout)         (None, 64)                0         \n",
      "                                                                 \n",
      " dense_2 (Dense)             (None, 5)                 325       \n",
      "                                                                 \n",
      "=================================================================\n",
      "Total params: 1,736,389\n",
      "Trainable params: 1,735,525\n",
      "Non-trainable params: 864\n",
      "_________________________________________________________________\n"
     ]
    },
    {
     "name": "stderr",
     "output_type": "stream",
     "text": [
      "2023-03-11 12:43:42.429802: W tensorflow/core/common_runtime/gpu/gpu_bfc_allocator.cc:39] Overriding allow_growth setting because the TF_FORCE_GPU_ALLOW_GROWTH environment variable is set. Original config value was 0.\n",
      "2023-03-11 12:43:42.429877: I tensorflow/core/common_runtime/gpu/gpu_device.cc:1525] Created device /job:localhost/replica:0/task:0/device:GPU:0 with 14802 MB memory:  -> device: 0, name: Quadro RTX 5000, pci bus id: 0000:1c:00.0, compute capability: 7.5\n"
     ]
    }
   ],
   "source": [
    "from tensorflow.keras.models import Sequential\n",
    "\n",
    "conv_3d1=ModelConv3D1()\n",
    "conv_3d1.initialize_path(project_folder)\n",
    "conv_3d1.initialize_image_properties(image_height=160,image_width=160)\n",
    "conv_3d1.initialize_hyperparams(frames_to_sample=30,batch_size=10,num_epochs=1)\n",
    "conv_3d1_model=conv_3d1.define_model()\n",
    "conv_3d1_model.summary()"
   ]
  },
  {
   "cell_type": "markdown",
   "metadata": {},
   "source": [
    "### Sample cropping"
   ]
  },
  {
   "cell_type": "code",
   "execution_count": 9,
   "metadata": {},
   "outputs": [
    {
     "data": {
      "text/plain": [
       "<matplotlib.image.AxesImage at 0x7f5e5947adf0>"
      ]
     },
     "execution_count": 9,
     "metadata": {},
     "output_type": "execute_result"
    },
    {
     "data": {
      "image/png": "[encoded data removed]",
      "text/plain": [
       "<Figure size 432x288 with 2 Axes>"
      ]
     },
     "metadata": {
      "needs_background": "light"
     },
     "output_type": "display_data"
    }
   ],
   "source": [
    "test_generator=ModelConv3D1()\n",
    "test_generator.initialize_path(project_folder)\n",
    "test_generator.initialize_image_properties(image_height=160,image_width=160)\n",
    "test_generator.initialize_hyperparams(frames_to_sample=30,batch_size=3,num_epochs=1)\n",
    "\n",
    "g=test_generator.generator(test_generator.val_path,test_generator.val_doc,augment=True)\n",
    "batch_data, batch_labels=next(g)\n",
    "fig, axes = plt.subplots(nrows=1, ncols=2)\n",
    "axes[0].imshow(batch_data[0,15,:,:,:])   \n",
    "axes[1].imshow(batch_data[3,15,:,:,:])   "
   ]
  },
  {
   "cell_type": "code",
   "execution_count": 10,
   "metadata": {},
   "outputs": [
    {
     "name": "stdout",
     "output_type": "stream",
     "text": [
      "WARNING:tensorflow:`period` argument is deprecated. Please use `save_freq` to specify the frequency in number of batches seen.\n"
     ]
    },
    {
     "name": "stderr",
     "output_type": "stream",
     "text": [
      "2023-03-11 12:44:00.567429: I tensorflow/stream_executor/cuda/cuda_dnn.cc:377] Loaded cuDNN version 8302\n"
     ]
    },
    {
     "name": "stdout",
     "output_type": "stream",
     "text": [
      "67/67 [==============================] - ETA: 0s - loss: 1.5644 - categorical_accuracy: 0.4314\n",
      "Epoch 00001: saving model to model_init_2023-03-1112_43_55.827518/model-00001-1.56437-0.43137-11.70600-0.16000.h5\n",
      "67/67 [==============================] - 179s 3s/step - loss: 1.5644 - categorical_accuracy: 0.4314 - val_loss: 11.7060 - val_categorical_accuracy: 0.1600 - lr: 0.0010\n"
     ]
    },
    {
     "data": {
      "text/plain": [
       "<keras.callbacks.History at 0x7f5e593470d0>"
      ]
     },
     "execution_count": 10,
     "metadata": {},
     "output_type": "execute_result"
    }
   ],
   "source": [
    "conv_3d1.train_model(conv_3d1_model)"
   ]
  },
  {
   "cell_type": "markdown",
   "metadata": {},
   "source": [
    "### Model 1"
   ]
  },
  {
   "cell_type": "markdown",
   "metadata": {},
   "source": [
    "#### Base Model\n",
    "* Batch Size = 40\n",
    "* No. of Epochs = 15"
   ]
  },
  {
   "cell_type": "code",
   "execution_count": 11,
   "metadata": {},
   "outputs": [],
   "source": [
    "class ModelConv3D1(ModelBuilder):\n",
    "    \n",
    "    def define_model(self,filtersize=(3,3,3),dense_neurons=64,dropout=0.25):\n",
    "\n",
    "        model = Sequential()\n",
    "        model.add(Conv3D(16, filtersize, padding='same',\n",
    "                 input_shape=(self.frames_to_sample,self.image_height,self.image_width,self.channels)))\n",
    "        model.add(Activation('relu'))\n",
    "        model.add(BatchNormalization())\n",
    "        model.add(MaxPooling3D(pool_size=(2, 2, 2)))\n",
    "\n",
    "        model.add(Conv3D(32, filtersize, padding='same'))\n",
    "        model.add(Activation('relu'))\n",
    "        model.add(BatchNormalization())\n",
    "        model.add(MaxPooling3D(pool_size=(2, 2, 2)))\n",
    "\n",
    "        model.add(Conv3D(64, filtersize, padding='same'))\n",
    "        model.add(Activation('relu'))\n",
    "        model.add(BatchNormalization())\n",
    "        model.add(MaxPooling3D(pool_size=(2, 2, 2)))\n",
    "\n",
    "        model.add(Conv3D(128, filtersize, padding='same'))\n",
    "        model.add(Activation('relu'))\n",
    "        model.add(BatchNormalization())\n",
    "        model.add(MaxPooling3D(pool_size=(2, 2, 2)))\n",
    "\n",
    "        model.add(Flatten())\n",
    "        model.add(Dense(dense_neurons,activation='relu'))\n",
    "        model.add(BatchNormalization())\n",
    "        model.add(Dropout(dropout))\n",
    "\n",
    "        model.add(Dense(dense_neurons,activation='relu'))\n",
    "        model.add(BatchNormalization())\n",
    "        model.add(Dropout(dropout))\n",
    "\n",
    "\n",
    "        model.add(Dense(self.num_classes,activation='softmax'))\n",
    "\n",
    "        optimiser = tf.keras.optimizers.Adam()\n",
    "        model.compile(optimizer=optimiser, loss='categorical_crossentropy', metrics=['categorical_accuracy'])\n",
    "        return model"
   ]
  },
  {
   "cell_type": "code",
   "execution_count": 12,
   "metadata": {},
   "outputs": [
    {
     "name": "stdout",
     "output_type": "stream",
     "text": [
      "Model: \"sequential_1\"\n",
      "_________________________________________________________________\n",
      " Layer (type)                Output Shape              Param #   \n",
      "=================================================================\n",
      " conv3d_4 (Conv3D)           (None, 20, 160, 160, 16)  1312      \n",
      "                                                                 \n",
      " activation_4 (Activation)   (None, 20, 160, 160, 16)  0         \n",
      "                                                                 \n",
      " batch_normalization_6 (Batc  (None, 20, 160, 160, 16)  64       \n",
      " hNormalization)                                                 \n",
      "                                                                 \n",
      " max_pooling3d_4 (MaxPooling  (None, 10, 80, 80, 16)   0         \n",
      " 3D)                                                             \n",
      "                                                                 \n",
      " conv3d_5 (Conv3D)           (None, 10, 80, 80, 32)    13856     \n",
      "                                                                 \n",
      " activation_5 (Activation)   (None, 10, 80, 80, 32)    0         \n",
      "                                                                 \n",
      " batch_normalization_7 (Batc  (None, 10, 80, 80, 32)   128       \n",
      " hNormalization)                                                 \n",
      "                                                                 \n",
      " max_pooling3d_5 (MaxPooling  (None, 5, 40, 40, 32)    0         \n",
      " 3D)                                                             \n",
      "                                                                 \n",
      " conv3d_6 (Conv3D)           (None, 5, 40, 40, 64)     55360     \n",
      "                                                                 \n",
      " activation_6 (Activation)   (None, 5, 40, 40, 64)     0         \n",
      "                                                                 \n",
      " batch_normalization_8 (Batc  (None, 5, 40, 40, 64)    256       \n",
      " hNormalization)                                                 \n",
      "                                                                 \n",
      " max_pooling3d_6 (MaxPooling  (None, 2, 20, 20, 64)    0         \n",
      " 3D)                                                             \n",
      "                                                                 \n",
      " conv3d_7 (Conv3D)           (None, 2, 20, 20, 128)    221312    \n",
      "                                                                 \n",
      " activation_7 (Activation)   (None, 2, 20, 20, 128)    0         \n",
      "                                                                 \n",
      " batch_normalization_9 (Batc  (None, 2, 20, 20, 128)   512       \n",
      " hNormalization)                                                 \n",
      "                                                                 \n",
      " max_pooling3d_7 (MaxPooling  (None, 1, 10, 10, 128)   0         \n",
      " 3D)                                                             \n",
      "                                                                 \n",
      " flatten_1 (Flatten)         (None, 12800)             0         \n",
      "                                                                 \n",
      " dense_3 (Dense)             (None, 64)                819264    \n",
      "                                                                 \n",
      " batch_normalization_10 (Bat  (None, 64)               256       \n",
      " chNormalization)                                                \n",
      "                                                                 \n",
      " dropout_2 (Dropout)         (None, 64)                0         \n",
      "                                                                 \n",
      " dense_4 (Dense)             (None, 64)                4160      \n",
      "                                                                 \n",
      " batch_normalization_11 (Bat  (None, 64)               256       \n",
      " chNormalization)                                                \n",
      "                                                                 \n",
      " dropout_3 (Dropout)         (None, 64)                0         \n",
      "                                                                 \n",
      " dense_5 (Dense)             (None, 5)                 325       \n",
      "                                                                 \n",
      "=================================================================\n",
      "Total params: 1,117,061\n",
      "Trainable params: 1,116,325\n",
      "Non-trainable params: 736\n",
      "_________________________________________________________________\n"
     ]
    }
   ],
   "source": [
    "conv_3d1=ModelConv3D1()\n",
    "conv_3d1.initialize_path(project_folder)\n",
    "conv_3d1.initialize_image_properties(image_height=160,image_width=160)\n",
    "conv_3d1.initialize_hyperparams(frames_to_sample=20,batch_size=40,num_epochs=15)\n",
    "conv_3d1_model=conv_3d1.define_model()\n",
    "conv_3d1_model.summary()"
   ]
  },
  {
   "cell_type": "code",
   "execution_count": 13,
   "metadata": {},
   "outputs": [
    {
     "name": "stdout",
     "output_type": "stream",
     "text": [
      "Total Params: 1117061\n",
      "WARNING:tensorflow:`period` argument is deprecated. Please use `save_freq` to specify the frequency in number of batches seen.\n",
      "Epoch 1/15\n",
      "17/17 [==============================] - ETA: 0s - loss: 1.4957 - categorical_accuracy: 0.4344\n",
      "Epoch 00001: saving model to model_init_2023-03-1112_47_22.363450/model-00001-1.49566-0.43439-1.77112-0.21000.h5\n",
      "17/17 [==============================] - 121s 7s/step - loss: 1.4957 - categorical_accuracy: 0.4344 - val_loss: 1.7711 - val_categorical_accuracy: 0.2100 - lr: 0.0010\n",
      "Epoch 2/15\n",
      "17/17 [==============================] - ETA: 0s - loss: 0.8514 - categorical_accuracy: 0.6727\n",
      "Epoch 00002: saving model to model_init_2023-03-1112_47_22.363450/model-00002-0.85143-0.67270-3.20263-0.21000.h5\n",
      "17/17 [==============================] - 121s 8s/step - loss: 0.8514 - categorical_accuracy: 0.6727 - val_loss: 3.2026 - val_categorical_accuracy: 0.2100 - lr: 0.0010\n",
      "Epoch 3/15\n",
      "17/17 [==============================] - ETA: 0s - loss: 0.5731 - categorical_accuracy: 0.8024\n",
      "Epoch 00003: saving model to model_init_2023-03-1112_47_22.363450/model-00003-0.57310-0.80241-3.71458-0.22000.h5\n",
      "17/17 [==============================] - 116s 7s/step - loss: 0.5731 - categorical_accuracy: 0.8024 - val_loss: 3.7146 - val_categorical_accuracy: 0.2200 - lr: 0.0010\n",
      "Epoch 4/15\n",
      "17/17 [==============================] - ETA: 0s - loss: 0.3278 - categorical_accuracy: 0.8884\n",
      "Epoch 00004: saving model to model_init_2023-03-1112_47_22.363450/model-00004-0.32779-0.88839-4.28593-0.21000.h5\n",
      "17/17 [==============================] - 117s 7s/step - loss: 0.3278 - categorical_accuracy: 0.8884 - val_loss: 4.2859 - val_categorical_accuracy: 0.2100 - lr: 0.0010\n",
      "Epoch 5/15\n",
      "17/17 [==============================] - ETA: 0s - loss: 0.2461 - categorical_accuracy: 0.9367\n",
      "Epoch 00005: saving model to model_init_2023-03-1112_47_22.363450/model-00005-0.24610-0.93665-4.84550-0.25000.h5\n",
      "\n",
      "Epoch 00005: ReduceLROnPlateau reducing learning rate to 0.00020000000949949026.\n",
      "17/17 [==============================] - 116s 7s/step - loss: 0.2461 - categorical_accuracy: 0.9367 - val_loss: 4.8455 - val_categorical_accuracy: 0.2500 - lr: 0.0010\n",
      "Epoch 6/15\n",
      "17/17 [==============================] - ETA: 0s - loss: 0.1692 - categorical_accuracy: 0.9653\n",
      "Epoch 00006: saving model to model_init_2023-03-1112_47_22.363450/model-00006-0.16919-0.96531-5.07539-0.24000.h5\n",
      "17/17 [==============================] - 112s 7s/step - loss: 0.1692 - categorical_accuracy: 0.9653 - val_loss: 5.0754 - val_categorical_accuracy: 0.2400 - lr: 2.0000e-04\n",
      "Epoch 7/15\n",
      "17/17 [==============================] - ETA: 0s - loss: 0.1444 - categorical_accuracy: 0.9668\n",
      "Epoch 00007: saving model to model_init_2023-03-1112_47_22.363450/model-00007-0.14437-0.96682-5.29398-0.21000.h5\n",
      "17/17 [==============================] - 118s 7s/step - loss: 0.1444 - categorical_accuracy: 0.9668 - val_loss: 5.2940 - val_categorical_accuracy: 0.2100 - lr: 2.0000e-04\n",
      "Epoch 8/15\n",
      "17/17 [==============================] - ETA: 0s - loss: 0.1166 - categorical_accuracy: 0.9834\n",
      "Epoch 00008: saving model to model_init_2023-03-1112_47_22.363450/model-00008-0.11660-0.98341-5.70820-0.24000.h5\n",
      "17/17 [==============================] - 117s 7s/step - loss: 0.1166 - categorical_accuracy: 0.9834 - val_loss: 5.7082 - val_categorical_accuracy: 0.2400 - lr: 2.0000e-04\n",
      "Epoch 9/15\n",
      "17/17 [==============================] - ETA: 0s - loss: 0.0898 - categorical_accuracy: 0.9940\n",
      "Epoch 00009: saving model to model_init_2023-03-1112_47_22.363450/model-00009-0.08979-0.99397-6.37969-0.19000.h5\n",
      "\n",
      "Epoch 00009: ReduceLROnPlateau reducing learning rate to 4.0000001899898055e-05.\n",
      "17/17 [==============================] - 114s 7s/step - loss: 0.0898 - categorical_accuracy: 0.9940 - val_loss: 6.3797 - val_categorical_accuracy: 0.1900 - lr: 2.0000e-04\n",
      "Epoch 10/15\n",
      "17/17 [==============================] - ETA: 0s - loss: 0.0933 - categorical_accuracy: 0.9894\n",
      "Epoch 00010: saving model to model_init_2023-03-1112_47_22.363450/model-00010-0.09329-0.98944-6.29354-0.21000.h5\n",
      "17/17 [==============================] - 119s 7s/step - loss: 0.0933 - categorical_accuracy: 0.9894 - val_loss: 6.2935 - val_categorical_accuracy: 0.2100 - lr: 4.0000e-05\n",
      "Epoch 11/15\n",
      "17/17 [==============================] - ETA: 0s - loss: 0.0956 - categorical_accuracy: 0.9879\n",
      "Epoch 00011: saving model to model_init_2023-03-1112_47_22.363450/model-00011-0.09558-0.98793-6.41361-0.18000.h5\n",
      "17/17 [==============================] - 117s 7s/step - loss: 0.0956 - categorical_accuracy: 0.9879 - val_loss: 6.4136 - val_categorical_accuracy: 0.1800 - lr: 4.0000e-05\n",
      "Epoch 12/15\n",
      "17/17 [==============================] - ETA: 0s - loss: 0.0913 - categorical_accuracy: 0.9864\n",
      "Epoch 00012: saving model to model_init_2023-03-1112_47_22.363450/model-00012-0.09131-0.98643-6.21754-0.23000.h5\n",
      "17/17 [==============================] - 112s 7s/step - loss: 0.0913 - categorical_accuracy: 0.9864 - val_loss: 6.2175 - val_categorical_accuracy: 0.2300 - lr: 4.0000e-05\n",
      "Epoch 13/15\n",
      "17/17 [==============================] - ETA: 0s - loss: 0.0929 - categorical_accuracy: 0.9910\n",
      "Epoch 00013: saving model to model_init_2023-03-1112_47_22.363450/model-00013-0.09289-0.99095-6.51093-0.21000.h5\n",
      "\n",
      "Epoch 00013: ReduceLROnPlateau reducing learning rate to 8.000000525498762e-06.\n",
      "17/17 [==============================] - 119s 7s/step - loss: 0.0929 - categorical_accuracy: 0.9910 - val_loss: 6.5109 - val_categorical_accuracy: 0.2100 - lr: 4.0000e-05\n",
      "Epoch 14/15\n",
      "17/17 [==============================] - ETA: 0s - loss: 0.0891 - categorical_accuracy: 0.9894\n",
      "Epoch 00014: saving model to model_init_2023-03-1112_47_22.363450/model-00014-0.08905-0.98944-6.72849-0.24000.h5\n",
      "17/17 [==============================] - 120s 7s/step - loss: 0.0891 - categorical_accuracy: 0.9894 - val_loss: 6.7285 - val_categorical_accuracy: 0.2400 - lr: 8.0000e-06\n",
      "Epoch 15/15\n",
      "17/17 [==============================] - ETA: 0s - loss: 0.0871 - categorical_accuracy: 0.9849\n",
      "Epoch 00015: saving model to model_init_2023-03-1112_47_22.363450/model-00015-0.08714-0.98492-5.77053-0.27000.h5\n",
      "17/17 [==============================] - 116s 7s/step - loss: 0.0871 - categorical_accuracy: 0.9849 - val_loss: 5.7705 - val_categorical_accuracy: 0.2700 - lr: 8.0000e-06\n"
     ]
    }
   ],
   "source": [
    "print(\"Total Params:\", conv_3d1_model.count_params())\n",
    "history_model1 = conv_3d1.train_model(conv_3d1_model)"
   ]
  },
  {
   "cell_type": "code",
   "execution_count": 14,
   "metadata": {},
   "outputs": [
    {
     "data": {
      "image/png": "[encoded data removed]",
      "text/plain": [
       "<Figure size 1080x288 with 2 Axes>"
      ]
     },
     "metadata": {
      "needs_background": "light"
     },
     "output_type": "display_data"
    }
   ],
   "source": [
    "plot(history_model1)"
   ]
  },
  {
   "cell_type": "markdown",
   "metadata": {},
   "source": [
    "Model is clearly overfitting"
   ]
  },
  {
   "cell_type": "markdown",
   "metadata": {},
   "source": [
    "## Model 2\n",
    "\n",
    "* Adding dropout layers\n",
    "* Batch size = 20\n",
    "* no. of epochs = 25"
   ]
  },
  {
   "cell_type": "code",
   "execution_count": 15,
   "metadata": {},
   "outputs": [
    {
     "name": "stdout",
     "output_type": "stream",
     "text": [
      "Model: \"sequential_2\"\n",
      "_________________________________________________________________\n",
      " Layer (type)                Output Shape              Param #   \n",
      "=================================================================\n",
      " conv3d_8 (Conv3D)           (None, 20, 160, 160, 16)  1312      \n",
      "                                                                 \n",
      " activation_8 (Activation)   (None, 20, 160, 160, 16)  0         \n",
      "                                                                 \n",
      " batch_normalization_12 (Bat  (None, 20, 160, 160, 16)  64       \n",
      " chNormalization)                                                \n",
      "                                                                 \n",
      " max_pooling3d_8 (MaxPooling  (None, 10, 80, 80, 16)   0         \n",
      " 3D)                                                             \n",
      "                                                                 \n",
      " conv3d_9 (Conv3D)           (None, 10, 80, 80, 32)    13856     \n",
      "                                                                 \n",
      " activation_9 (Activation)   (None, 10, 80, 80, 32)    0         \n",
      "                                                                 \n",
      " batch_normalization_13 (Bat  (None, 10, 80, 80, 32)   128       \n",
      " chNormalization)                                                \n",
      "                                                                 \n",
      " max_pooling3d_9 (MaxPooling  (None, 5, 40, 40, 32)    0         \n",
      " 3D)                                                             \n",
      "                                                                 \n",
      " conv3d_10 (Conv3D)          (None, 5, 40, 40, 64)     55360     \n",
      "                                                                 \n",
      " activation_10 (Activation)  (None, 5, 40, 40, 64)     0         \n",
      "                                                                 \n",
      " batch_normalization_14 (Bat  (None, 5, 40, 40, 64)    256       \n",
      " chNormalization)                                                \n",
      "                                                                 \n",
      " max_pooling3d_10 (MaxPoolin  (None, 2, 20, 20, 64)    0         \n",
      " g3D)                                                            \n",
      "                                                                 \n",
      " conv3d_11 (Conv3D)          (None, 2, 20, 20, 128)    221312    \n",
      "                                                                 \n",
      " activation_11 (Activation)  (None, 2, 20, 20, 128)    0         \n",
      "                                                                 \n",
      " batch_normalization_15 (Bat  (None, 2, 20, 20, 128)   512       \n",
      " chNormalization)                                                \n",
      "                                                                 \n",
      " max_pooling3d_11 (MaxPoolin  (None, 1, 10, 10, 128)   0         \n",
      " g3D)                                                            \n",
      "                                                                 \n",
      " flatten_2 (Flatten)         (None, 12800)             0         \n",
      "                                                                 \n",
      " dense_6 (Dense)             (None, 256)               3277056   \n",
      "                                                                 \n",
      " batch_normalization_16 (Bat  (None, 256)              1024      \n",
      " chNormalization)                                                \n",
      "                                                                 \n",
      " dropout_4 (Dropout)         (None, 256)               0         \n",
      "                                                                 \n",
      " dense_7 (Dense)             (None, 256)               65792     \n",
      "                                                                 \n",
      " batch_normalization_17 (Bat  (None, 256)              1024      \n",
      " chNormalization)                                                \n",
      "                                                                 \n",
      " dropout_5 (Dropout)         (None, 256)               0         \n",
      "                                                                 \n",
      " dense_8 (Dense)             (None, 5)                 1285      \n",
      "                                                                 \n",
      "=================================================================\n",
      "Total params: 3,638,981\n",
      "Trainable params: 3,637,477\n",
      "Non-trainable params: 1,504\n",
      "_________________________________________________________________\n"
     ]
    }
   ],
   "source": [
    "conv_3d2=ModelConv3D1()\n",
    "conv_3d2.initialize_path(project_folder)\n",
    "conv_3d2.initialize_image_properties(image_height=160,image_width=160)\n",
    "conv_3d2.initialize_hyperparams(frames_to_sample=20,batch_size=20,num_epochs=25)\n",
    "conv_3d2_model=conv_3d2.define_model(dense_neurons=256,dropout=0.5)\n",
    "conv_3d2_model.summary()"
   ]
  },
  {
   "cell_type": "code",
   "execution_count": 16,
   "metadata": {},
   "outputs": [
    {
     "name": "stdout",
     "output_type": "stream",
     "text": [
      "Total Params: 3638981\n",
      "WARNING:tensorflow:`period` argument is deprecated. Please use `save_freq` to specify the frequency in number of batches seen.\n",
      "Epoch 1/25\n",
      "34/34 [==============================] - ETA: 0s - loss: 1.8954 - categorical_accuracy: 0.3899\n",
      "Epoch 00001: saving model to model_init_2023-03-1113_17_10.888044/model-00001-1.89536-0.38989-2.40260-0.19000.h5\n",
      "34/34 [==============================] - 216s 6s/step - loss: 1.8954 - categorical_accuracy: 0.3899 - val_loss: 2.4026 - val_categorical_accuracy: 0.1900 - lr: 0.0010\n",
      "Epoch 2/25\n",
      "34/34 [==============================] - ETA: 0s - loss: 1.3702 - categorical_accuracy: 0.5234\n",
      "Epoch 00002: saving model to model_init_2023-03-1113_17_10.888044/model-00002-1.37023-0.52338-2.61382-0.38000.h5\n",
      "34/34 [==============================] - 213s 6s/step - loss: 1.3702 - categorical_accuracy: 0.5234 - val_loss: 2.6138 - val_categorical_accuracy: 0.3800 - lr: 0.0010\n",
      "Epoch 3/25\n",
      "34/34 [==============================] - ETA: 0s - loss: 1.2591 - categorical_accuracy: 0.5649\n",
      "Epoch 00003: saving model to model_init_2023-03-1113_17_10.888044/model-00003-1.25905-0.56486-4.55049-0.20000.h5\n",
      "34/34 [==============================] - 215s 6s/step - loss: 1.2591 - categorical_accuracy: 0.5649 - val_loss: 4.5505 - val_categorical_accuracy: 0.2000 - lr: 0.0010\n",
      "Epoch 4/25\n",
      "34/34 [==============================] - ETA: 0s - loss: 1.0735 - categorical_accuracy: 0.6290\n",
      "Epoch 00004: saving model to model_init_2023-03-1113_17_10.888044/model-00004-1.07350-0.62896-4.47633-0.17000.h5\n",
      "34/34 [==============================] - 215s 7s/step - loss: 1.0735 - categorical_accuracy: 0.6290 - val_loss: 4.4763 - val_categorical_accuracy: 0.1700 - lr: 0.0010\n",
      "Epoch 5/25\n",
      "34/34 [==============================] - ETA: 0s - loss: 0.9510 - categorical_accuracy: 0.6297\n",
      "Epoch 00005: saving model to model_init_2023-03-1113_17_10.888044/model-00005-0.95100-0.62971-4.97460-0.21000.h5\n",
      "\n",
      "Epoch 00005: ReduceLROnPlateau reducing learning rate to 0.00020000000949949026.\n",
      "34/34 [==============================] - 211s 6s/step - loss: 0.9510 - categorical_accuracy: 0.6297 - val_loss: 4.9746 - val_categorical_accuracy: 0.2100 - lr: 0.0010\n",
      "Epoch 6/25\n",
      "34/34 [==============================] - ETA: 0s - loss: 0.8518 - categorical_accuracy: 0.6931\n",
      "Epoch 00006: saving model to model_init_2023-03-1113_17_10.888044/model-00006-0.85181-0.69306-5.24459-0.21000.h5\n",
      "34/34 [==============================] - 212s 6s/step - loss: 0.8518 - categorical_accuracy: 0.6931 - val_loss: 5.2446 - val_categorical_accuracy: 0.2100 - lr: 2.0000e-04\n",
      "Epoch 7/25\n",
      "34/34 [==============================] - ETA: 0s - loss: 0.7425 - categorical_accuracy: 0.7217\n",
      "Epoch 00007: saving model to model_init_2023-03-1113_17_10.888044/model-00007-0.74253-0.72172-5.65355-0.20000.h5\n",
      "34/34 [==============================] - 214s 6s/step - loss: 0.7425 - categorical_accuracy: 0.7217 - val_loss: 5.6536 - val_categorical_accuracy: 0.2000 - lr: 2.0000e-04\n",
      "Epoch 8/25\n",
      "34/34 [==============================] - ETA: 0s - loss: 0.6475 - categorical_accuracy: 0.7549\n",
      "Epoch 00008: saving model to model_init_2023-03-1113_17_10.888044/model-00008-0.64749-0.75490-5.93990-0.19000.h5\n",
      "34/34 [==============================] - 215s 6s/step - loss: 0.6475 - categorical_accuracy: 0.7549 - val_loss: 5.9399 - val_categorical_accuracy: 0.1900 - lr: 2.0000e-04\n",
      "Epoch 9/25\n",
      "34/34 [==============================] - ETA: 0s - loss: 0.6363 - categorical_accuracy: 0.7511\n",
      "Epoch 00009: saving model to model_init_2023-03-1113_17_10.888044/model-00009-0.63631-0.75113-6.19920-0.18000.h5\n",
      "\n",
      "Epoch 00009: ReduceLROnPlateau reducing learning rate to 4.0000001899898055e-05.\n",
      "34/34 [==============================] - 213s 6s/step - loss: 0.6363 - categorical_accuracy: 0.7511 - val_loss: 6.1992 - val_categorical_accuracy: 0.1800 - lr: 2.0000e-04\n",
      "Epoch 10/25\n",
      "34/34 [==============================] - ETA: 0s - loss: 0.5729 - categorical_accuracy: 0.7926\n",
      "Epoch 00010: saving model to model_init_2023-03-1113_17_10.888044/model-00010-0.57291-0.79261-5.25675-0.25000.h5\n",
      "34/34 [==============================] - 215s 7s/step - loss: 0.5729 - categorical_accuracy: 0.7926 - val_loss: 5.2568 - val_categorical_accuracy: 0.2500 - lr: 4.0000e-05\n",
      "Epoch 11/25\n",
      "34/34 [==============================] - ETA: 0s - loss: 0.5339 - categorical_accuracy: 0.7934\n",
      "Epoch 00011: saving model to model_init_2023-03-1113_17_10.888044/model-00011-0.53385-0.79336-4.59900-0.24000.h5\n",
      "34/34 [==============================] - 216s 7s/step - loss: 0.5339 - categorical_accuracy: 0.7934 - val_loss: 4.5990 - val_categorical_accuracy: 0.2400 - lr: 4.0000e-05\n",
      "Epoch 12/25\n",
      "34/34 [==============================] - ETA: 0s - loss: 0.5441 - categorical_accuracy: 0.7903\n",
      "Epoch 00012: saving model to model_init_2023-03-1113_17_10.888044/model-00012-0.54410-0.79035-3.86591-0.30000.h5\n",
      "34/34 [==============================] - 217s 7s/step - loss: 0.5441 - categorical_accuracy: 0.7903 - val_loss: 3.8659 - val_categorical_accuracy: 0.3000 - lr: 4.0000e-05\n",
      "Epoch 13/25\n",
      "34/34 [==============================] - ETA: 0s - loss: 0.4846 - categorical_accuracy: 0.8137\n",
      "Epoch 00013: saving model to model_init_2023-03-1113_17_10.888044/model-00013-0.48455-0.81373-3.07448-0.28000.h5\n",
      "\n",
      "Epoch 00013: ReduceLROnPlateau reducing learning rate to 8.000000525498762e-06.\n",
      "34/34 [==============================] - 226s 7s/step - loss: 0.4846 - categorical_accuracy: 0.8137 - val_loss: 3.0745 - val_categorical_accuracy: 0.2800 - lr: 4.0000e-05\n",
      "Epoch 14/25\n",
      "34/34 [==============================] - ETA: 0s - loss: 0.5300 - categorical_accuracy: 0.8054\n",
      "Epoch 00014: saving model to model_init_2023-03-1113_17_10.888044/model-00014-0.53002-0.80543-2.61901-0.32000.h5\n",
      "34/34 [==============================] - 215s 6s/step - loss: 0.5300 - categorical_accuracy: 0.8054 - val_loss: 2.6190 - val_categorical_accuracy: 0.3200 - lr: 8.0000e-06\n",
      "Epoch 15/25\n",
      "34/34 [==============================] - ETA: 0s - loss: 0.5313 - categorical_accuracy: 0.7903\n",
      "Epoch 00015: saving model to model_init_2023-03-1113_17_10.888044/model-00015-0.53133-0.79035-1.94332-0.41000.h5\n",
      "34/34 [==============================] - 223s 7s/step - loss: 0.5313 - categorical_accuracy: 0.7903 - val_loss: 1.9433 - val_categorical_accuracy: 0.4100 - lr: 8.0000e-06\n",
      "Epoch 16/25\n",
      "34/34 [==============================] - ETA: 0s - loss: 0.5360 - categorical_accuracy: 0.7813\n",
      "Epoch 00016: saving model to model_init_2023-03-1113_17_10.888044/model-00016-0.53604-0.78130-1.58986-0.51000.h5\n",
      "34/34 [==============================] - 212s 6s/step - loss: 0.5360 - categorical_accuracy: 0.7813 - val_loss: 1.5899 - val_categorical_accuracy: 0.5100 - lr: 8.0000e-06\n",
      "Epoch 17/25\n",
      "34/34 [==============================] - ETA: 0s - loss: 0.4911 - categorical_accuracy: 0.8167\n",
      "Epoch 00017: saving model to model_init_2023-03-1113_17_10.888044/model-00017-0.49111-0.81674-1.24906-0.53000.h5\n",
      "34/34 [==============================] - 213s 6s/step - loss: 0.4911 - categorical_accuracy: 0.8167 - val_loss: 1.2491 - val_categorical_accuracy: 0.5300 - lr: 8.0000e-06\n",
      "Epoch 18/25\n",
      "34/34 [==============================] - ETA: 0s - loss: 0.4734 - categorical_accuracy: 0.8205\n",
      "Epoch 00018: saving model to model_init_2023-03-1113_17_10.888044/model-00018-0.47336-0.82051-0.84539-0.63000.h5\n",
      "34/34 [==============================] - 225s 7s/step - loss: 0.4734 - categorical_accuracy: 0.8205 - val_loss: 0.8454 - val_categorical_accuracy: 0.6300 - lr: 8.0000e-06\n",
      "Epoch 19/25\n",
      "34/34 [==============================] - ETA: 0s - loss: 0.4808 - categorical_accuracy: 0.8213\n",
      "Epoch 00019: saving model to model_init_2023-03-1113_17_10.888044/model-00019-0.48079-0.82127-0.96243-0.66000.h5\n",
      "34/34 [==============================] - 219s 7s/step - loss: 0.4808 - categorical_accuracy: 0.8213 - val_loss: 0.9624 - val_categorical_accuracy: 0.6600 - lr: 8.0000e-06\n",
      "Epoch 20/25\n",
      "34/34 [==============================] - ETA: 0s - loss: 0.4926 - categorical_accuracy: 0.8115\n",
      "Epoch 00020: saving model to model_init_2023-03-1113_17_10.888044/model-00020-0.49264-0.81146-0.72162-0.74000.h5\n",
      "34/34 [==============================] - 211s 6s/step - loss: 0.4926 - categorical_accuracy: 0.8115 - val_loss: 0.7216 - val_categorical_accuracy: 0.7400 - lr: 8.0000e-06\n",
      "Epoch 21/25\n",
      "34/34 [==============================] - ETA: 0s - loss: 0.5090 - categorical_accuracy: 0.8032\n",
      "Epoch 00021: saving model to model_init_2023-03-1113_17_10.888044/model-00021-0.50905-0.80317-0.64991-0.79000.h5\n",
      "34/34 [==============================] - 213s 6s/step - loss: 0.5090 - categorical_accuracy: 0.8032 - val_loss: 0.6499 - val_categorical_accuracy: 0.7900 - lr: 8.0000e-06\n",
      "Epoch 22/25\n",
      "34/34 [==============================] - ETA: 0s - loss: 0.4635 - categorical_accuracy: 0.8198\n",
      "Epoch 00022: saving model to model_init_2023-03-1113_17_10.888044/model-00022-0.46346-0.81976-0.64317-0.77000.h5\n",
      "34/34 [==============================] - 212s 6s/step - loss: 0.4635 - categorical_accuracy: 0.8198 - val_loss: 0.6432 - val_categorical_accuracy: 0.7700 - lr: 8.0000e-06\n",
      "Epoch 23/25\n",
      "34/34 [==============================] - ETA: 0s - loss: 0.5290 - categorical_accuracy: 0.8062\n",
      "Epoch 00023: saving model to model_init_2023-03-1113_17_10.888044/model-00023-0.52900-0.80618-0.64666-0.79000.h5\n",
      "34/34 [==============================] - 211s 6s/step - loss: 0.5290 - categorical_accuracy: 0.8062 - val_loss: 0.6467 - val_categorical_accuracy: 0.7900 - lr: 8.0000e-06\n",
      "Epoch 24/25\n",
      "34/34 [==============================] - ETA: 0s - loss: 0.4856 - categorical_accuracy: 0.8130\n",
      "Epoch 00024: saving model to model_init_2023-03-1113_17_10.888044/model-00024-0.48561-0.81297-0.53926-0.80000.h5\n",
      "34/34 [==============================] - 211s 6s/step - loss: 0.4856 - categorical_accuracy: 0.8130 - val_loss: 0.5393 - val_categorical_accuracy: 0.8000 - lr: 8.0000e-06\n",
      "Epoch 25/25\n",
      "34/34 [==============================] - ETA: 0s - loss: 0.5224 - categorical_accuracy: 0.8069\n",
      "Epoch 00025: saving model to model_init_2023-03-1113_17_10.888044/model-00025-0.52243-0.80694-0.53899-0.80000.h5\n",
      "34/34 [==============================] - 211s 6s/step - loss: 0.5224 - categorical_accuracy: 0.8069 - val_loss: 0.5390 - val_categorical_accuracy: 0.8000 - lr: 8.0000e-06\n"
     ]
    }
   ],
   "source": [
    "print(\"Total Params:\", conv_3d2_model.count_params())\n",
    "history_model2=conv_3d2.train_model(conv_3d2_model,augment_data=True)"
   ]
  },
  {
   "cell_type": "code",
   "execution_count": 17,
   "metadata": {},
   "outputs": [
    {
     "data": {
      "image/png": "[encoded data removed]",
      "text/plain": [
       "<Figure size 1080x288 with 2 Axes>"
      ]
     },
     "metadata": {
      "needs_background": "light"
     },
     "output_type": "display_data"
    }
   ],
   "source": [
    "plot(history_model2)"
   ]
  },
  {
   "cell_type": "markdown",
   "metadata": {},
   "source": [
    "\n",
    "* The validation accuracy of 80% and training accuracy of 80%. Good job!\n",
    "* Next we will try to reduce the filter size and image resolution and see if get better results than this. \n",
    "* Moreover since we see minor oscillations in loss, let's try lowering the learning rate to 0.0002"
   ]
  },
  {
   "cell_type": "markdown",
   "metadata": {},
   "source": [
    "## Model 3\n",
    "\n",
    "* Reduce filter size to (2,2,2) and image res to 120 x 120, - Batch Size = 30 and No. of Epochs = 25"
   ]
  },
  {
   "cell_type": "code",
   "execution_count": 19,
   "metadata": {},
   "outputs": [],
   "source": [
    "class ModelConv3D3(ModelBuilder):\n",
    "    \n",
    "    def define_model(self,filtersize=(3,3,3),dense_neurons=64,dropout=0.25):\n",
    "\n",
    "        model = Sequential()\n",
    "        model.add(Conv3D(16, filtersize, padding='same',\n",
    "                 input_shape=(self.frames_to_sample,self.image_height,self.image_width,self.channels)))\n",
    "        model.add(Activation('relu'))\n",
    "        model.add(BatchNormalization())\n",
    "        model.add(MaxPooling3D(pool_size=(2, 2, 2)))\n",
    "\n",
    "        model.add(Conv3D(32, filtersize, padding='same'))\n",
    "        model.add(Activation('relu'))\n",
    "        model.add(BatchNormalization())\n",
    "        model.add(MaxPooling3D(pool_size=(2, 2, 2)))\n",
    "\n",
    "        model.add(Conv3D(64, filtersize, padding='same'))\n",
    "        model.add(Activation('relu'))\n",
    "        model.add(BatchNormalization())\n",
    "        model.add(MaxPooling3D(pool_size=(2, 2, 2)))\n",
    "\n",
    "        model.add(Conv3D(128, filtersize, padding='same'))\n",
    "        model.add(Activation('relu'))\n",
    "        model.add(BatchNormalization())\n",
    "        model.add(MaxPooling3D(pool_size=(2, 2, 2)))\n",
    "\n",
    "        model.add(Flatten())\n",
    "        model.add(Dense(dense_neurons,activation='relu'))\n",
    "        model.add(BatchNormalization())\n",
    "        model.add(Dropout(dropout))\n",
    "\n",
    "        model.add(Dense(dense_neurons,activation='relu'))\n",
    "        model.add(BatchNormalization())\n",
    "        model.add(Dropout(dropout))\n",
    "\n",
    "\n",
    "        model.add(Dense(self.num_classes,activation='softmax'))\n",
    "        \n",
    "        optimiser = tf.keras.optimizers.Adam(lr=0.0002)\n",
    "        model.compile(optimizer=optimiser, loss='categorical_crossentropy', metrics=['categorical_accuracy'])\n",
    "        return model"
   ]
  },
  {
   "cell_type": "code",
   "execution_count": 20,
   "metadata": {},
   "outputs": [
    {
     "name": "stdout",
     "output_type": "stream",
     "text": [
      "Model: \"sequential_3\"\n",
      "_________________________________________________________________\n",
      " Layer (type)                Output Shape              Param #   \n",
      "=================================================================\n",
      " conv3d_12 (Conv3D)          (None, 16, 120, 120, 16)  400       \n",
      "                                                                 \n",
      " activation_12 (Activation)  (None, 16, 120, 120, 16)  0         \n",
      "                                                                 \n",
      " batch_normalization_18 (Bat  (None, 16, 120, 120, 16)  64       \n",
      " chNormalization)                                                \n",
      "                                                                 \n",
      " max_pooling3d_12 (MaxPoolin  (None, 8, 60, 60, 16)    0         \n",
      " g3D)                                                            \n",
      "                                                                 \n",
      " conv3d_13 (Conv3D)          (None, 8, 60, 60, 32)     4128      \n",
      "                                                                 \n",
      " activation_13 (Activation)  (None, 8, 60, 60, 32)     0         \n",
      "                                                                 \n",
      " batch_normalization_19 (Bat  (None, 8, 60, 60, 32)    128       \n",
      " chNormalization)                                                \n",
      "                                                                 \n",
      " max_pooling3d_13 (MaxPoolin  (None, 4, 30, 30, 32)    0         \n",
      " g3D)                                                            \n",
      "                                                                 \n",
      " conv3d_14 (Conv3D)          (None, 4, 30, 30, 64)     16448     \n",
      "                                                                 \n",
      " activation_14 (Activation)  (None, 4, 30, 30, 64)     0         \n",
      "                                                                 \n",
      " batch_normalization_20 (Bat  (None, 4, 30, 30, 64)    256       \n",
      " chNormalization)                                                \n",
      "                                                                 \n",
      " max_pooling3d_14 (MaxPoolin  (None, 2, 15, 15, 64)    0         \n",
      " g3D)                                                            \n",
      "                                                                 \n",
      " conv3d_15 (Conv3D)          (None, 2, 15, 15, 128)    65664     \n",
      "                                                                 \n",
      " activation_15 (Activation)  (None, 2, 15, 15, 128)    0         \n",
      "                                                                 \n",
      " batch_normalization_21 (Bat  (None, 2, 15, 15, 128)   512       \n",
      " chNormalization)                                                \n",
      "                                                                 \n",
      " max_pooling3d_15 (MaxPoolin  (None, 1, 7, 7, 128)     0         \n",
      " g3D)                                                            \n",
      "                                                                 \n",
      " flatten_3 (Flatten)         (None, 6272)              0         \n",
      "                                                                 \n",
      " dense_9 (Dense)             (None, 256)               1605888   \n",
      "                                                                 \n",
      " batch_normalization_22 (Bat  (None, 256)              1024      \n",
      " chNormalization)                                                \n",
      "                                                                 \n",
      " dropout_6 (Dropout)         (None, 256)               0         \n",
      "                                                                 \n",
      " dense_10 (Dense)            (None, 256)               65792     \n",
      "                                                                 \n",
      " batch_normalization_23 (Bat  (None, 256)              1024      \n",
      " chNormalization)                                                \n",
      "                                                                 \n",
      " dropout_7 (Dropout)         (None, 256)               0         \n",
      "                                                                 \n",
      " dense_11 (Dense)            (None, 5)                 1285      \n",
      "                                                                 \n",
      "=================================================================\n",
      "Total params: 1,762,613\n",
      "Trainable params: 1,761,109\n",
      "Non-trainable params: 1,504\n",
      "_________________________________________________________________\n"
     ]
    }
   ],
   "source": [
    "conv_3d3=ModelConv3D3()\n",
    "conv_3d3.initialize_path(project_folder)\n",
    "conv_3d3.initialize_image_properties(image_height=120,image_width=120)\n",
    "conv_3d3.initialize_hyperparams(frames_to_sample=16,batch_size=30,num_epochs=25)\n",
    "conv_3d3_model=conv_3d3.define_model(filtersize=(2,2,2),dense_neurons=256,dropout=0.5)\n",
    "conv_3d3_model.summary()"
   ]
  },
  {
   "cell_type": "code",
   "execution_count": 21,
   "metadata": {},
   "outputs": [
    {
     "name": "stdout",
     "output_type": "stream",
     "text": [
      "Total Params: 1762613\n",
      "WARNING:tensorflow:`period` argument is deprecated. Please use `save_freq` to specify the frequency in number of batches seen.\n",
      "Epoch 1/25\n",
      "23/23 [==============================] - ETA: 0s - loss: 2.1516 - categorical_accuracy: 0.3333\n",
      "Epoch 00001: saving model to model_init_2023-03-1114_49_38.492307/model-00001-2.15164-0.33333-2.05617-0.16000.h5\n",
      "23/23 [==============================] - 150s 7s/step - loss: 2.1516 - categorical_accuracy: 0.3333 - val_loss: 2.0562 - val_categorical_accuracy: 0.1600 - lr: 2.0000e-04\n",
      "Epoch 2/25\n",
      "23/23 [==============================] - ETA: 0s - loss: 1.3876 - categorical_accuracy: 0.5256\n",
      "Epoch 00002: saving model to model_init_2023-03-1114_49_38.492307/model-00002-1.38758-0.52564-3.83918-0.14000.h5\n",
      "23/23 [==============================] - 150s 7s/step - loss: 1.3876 - categorical_accuracy: 0.5256 - val_loss: 3.8392 - val_categorical_accuracy: 0.1400 - lr: 2.0000e-04\n",
      "Epoch 3/25\n",
      "23/23 [==============================] - ETA: 0s - loss: 1.1265 - categorical_accuracy: 0.5822\n",
      "Epoch 00003: saving model to model_init_2023-03-1114_49_38.492307/model-00003-1.12646-0.58220-4.46854-0.19000.h5\n",
      "23/23 [==============================] - 148s 7s/step - loss: 1.1265 - categorical_accuracy: 0.5822 - val_loss: 4.4685 - val_categorical_accuracy: 0.1900 - lr: 2.0000e-04\n",
      "Epoch 4/25\n",
      "23/23 [==============================] - ETA: 0s - loss: 1.0441 - categorical_accuracy: 0.6222\n",
      "Epoch 00004: saving model to model_init_2023-03-1114_49_38.492307/model-00004-1.04406-0.62217-6.29246-0.14000.h5\n",
      "23/23 [==============================] - 147s 7s/step - loss: 1.0441 - categorical_accuracy: 0.6222 - val_loss: 6.2925 - val_categorical_accuracy: 0.1400 - lr: 2.0000e-04\n",
      "Epoch 5/25\n",
      "23/23 [==============================] - ETA: 0s - loss: 0.9369 - categorical_accuracy: 0.6742\n",
      "Epoch 00005: saving model to model_init_2023-03-1114_49_38.492307/model-00005-0.93695-0.67421-7.21587-0.16000.h5\n",
      "\n",
      "Epoch 00005: ReduceLROnPlateau reducing learning rate to 3.9999998989515007e-05.\n",
      "23/23 [==============================] - 150s 7s/step - loss: 0.9369 - categorical_accuracy: 0.6742 - val_loss: 7.2159 - val_categorical_accuracy: 0.1600 - lr: 2.0000e-04\n",
      "Epoch 6/25\n",
      "23/23 [==============================] - ETA: 0s - loss: 0.8225 - categorical_accuracy: 0.7014\n",
      "Epoch 00006: saving model to model_init_2023-03-1114_49_38.492307/model-00006-0.82245-0.70136-7.74415-0.20000.h5\n",
      "23/23 [==============================] - 148s 7s/step - loss: 0.8225 - categorical_accuracy: 0.7014 - val_loss: 7.7441 - val_categorical_accuracy: 0.2000 - lr: 4.0000e-05\n",
      "Epoch 7/25\n",
      "23/23 [==============================] - ETA: 0s - loss: 0.8535 - categorical_accuracy: 0.6810\n",
      "Epoch 00007: saving model to model_init_2023-03-1114_49_38.492307/model-00007-0.85345-0.68100-8.40572-0.15000.h5\n",
      "23/23 [==============================] - 150s 7s/step - loss: 0.8535 - categorical_accuracy: 0.6810 - val_loss: 8.4057 - val_categorical_accuracy: 0.1500 - lr: 4.0000e-05\n",
      "Epoch 8/25\n",
      "23/23 [==============================] - ETA: 0s - loss: 0.7870 - categorical_accuracy: 0.7104\n",
      "Epoch 00008: saving model to model_init_2023-03-1114_49_38.492307/model-00008-0.78703-0.71041-8.42289-0.17000.h5\n",
      "23/23 [==============================] - 148s 7s/step - loss: 0.7870 - categorical_accuracy: 0.7104 - val_loss: 8.4229 - val_categorical_accuracy: 0.1700 - lr: 4.0000e-05\n",
      "Epoch 9/25\n",
      "23/23 [==============================] - ETA: 0s - loss: 0.7621 - categorical_accuracy: 0.7315\n",
      "Epoch 00009: saving model to model_init_2023-03-1114_49_38.492307/model-00009-0.76205-0.73152-8.07778-0.16000.h5\n",
      "\n",
      "Epoch 00009: ReduceLROnPlateau reducing learning rate to 7.999999797903002e-06.\n",
      "23/23 [==============================] - 151s 7s/step - loss: 0.7621 - categorical_accuracy: 0.7315 - val_loss: 8.0778 - val_categorical_accuracy: 0.1600 - lr: 4.0000e-05\n",
      "Epoch 10/25\n",
      "23/23 [==============================] - ETA: 0s - loss: 0.7766 - categorical_accuracy: 0.7149\n",
      "Epoch 00010: saving model to model_init_2023-03-1114_49_38.492307/model-00010-0.77664-0.71493-7.77333-0.17000.h5\n",
      "23/23 [==============================] - 150s 7s/step - loss: 0.7766 - categorical_accuracy: 0.7149 - val_loss: 7.7733 - val_categorical_accuracy: 0.1700 - lr: 8.0000e-06\n",
      "Epoch 11/25\n",
      "23/23 [==============================] - ETA: 0s - loss: 0.7477 - categorical_accuracy: 0.7368\n",
      "Epoch 00011: saving model to model_init_2023-03-1114_49_38.492307/model-00011-0.74766-0.73680-7.09525-0.19000.h5\n",
      "23/23 [==============================] - 149s 7s/step - loss: 0.7477 - categorical_accuracy: 0.7368 - val_loss: 7.0952 - val_categorical_accuracy: 0.1900 - lr: 8.0000e-06\n",
      "Epoch 00011: early stopping\n"
     ]
    }
   ],
   "source": [
    "print(\"Total Params:\", conv_3d3_model.count_params())\n",
    "history_model3=conv_3d3.train_model(conv_3d3_model,augment_data=True)"
   ]
  },
  {
   "cell_type": "code",
   "execution_count": 22,
   "metadata": {},
   "outputs": [
    {
     "data": {
      "image/png": "[encoded data removed]",
      "text/plain": [
       "<Figure size 1080x288 with 2 Axes>"
      ]
     },
     "metadata": {
      "needs_background": "light"
     },
     "output_type": "display_data"
    }
   ],
   "source": [
    "plot(history_model3)"
   ]
  },
  {
   "cell_type": "markdown",
   "metadata": {},
   "source": [
    "Model is clearly overfitting :("
   ]
  },
  {
   "cell_type": "markdown",
   "metadata": {},
   "source": [
    "## Model 4"
   ]
  },
  {
   "cell_type": "markdown",
   "metadata": {},
   "source": [
    "Adding more layers - Batch Size = 20 and No. of Epochs = 25"
   ]
  },
  {
   "cell_type": "code",
   "execution_count": 18,
   "metadata": {},
   "outputs": [],
   "source": [
    "class ModelConv3D4(ModelBuilder):\n",
    "    \n",
    "    def define_model(self,filtersize=(3,3,3),dense_neurons=64,dropout=0.25):\n",
    "\n",
    "        model = Sequential()\n",
    "        model.add(Conv3D(16, filtersize, padding='same',\n",
    "                 input_shape=(self.frames_to_sample,self.image_height,self.image_width,self.channels)))\n",
    "        model.add(Activation('relu'))\n",
    "        model.add(BatchNormalization())\n",
    "        \n",
    "        model.add(Conv3D(16, filtersize, padding='same',\n",
    "                 input_shape=(self.frames_to_sample,self.image_height,self.image_width,self.channels)))\n",
    "        model.add(Activation('relu'))\n",
    "        model.add(BatchNormalization())\n",
    "        \n",
    "        model.add(MaxPooling3D(pool_size=(2, 2, 2)))\n",
    "\n",
    "        model.add(Conv3D(32, filtersize, padding='same'))\n",
    "        model.add(Activation('relu'))\n",
    "        model.add(BatchNormalization())\n",
    "        \n",
    "        model.add(Conv3D(32, filtersize, padding='same'))\n",
    "        model.add(Activation('relu'))\n",
    "        model.add(BatchNormalization())\n",
    "        \n",
    "        model.add(MaxPooling3D(pool_size=(2, 2, 2)))\n",
    "\n",
    "        model.add(Conv3D(64, filtersize, padding='same'))\n",
    "        model.add(Activation('relu'))\n",
    "        model.add(BatchNormalization())\n",
    "        \n",
    "        model.add(Conv3D(64, filtersize, padding='same'))\n",
    "        model.add(Activation('relu'))\n",
    "        model.add(BatchNormalization())\n",
    "        \n",
    "        model.add(MaxPooling3D(pool_size=(2, 2, 2)))\n",
    "\n",
    "        model.add(Conv3D(128, filtersize, padding='same'))\n",
    "        model.add(Activation('relu'))\n",
    "        model.add(BatchNormalization())\n",
    "        \n",
    "        model.add(Conv3D(128, filtersize, padding='same'))\n",
    "        model.add(Activation('relu'))\n",
    "        model.add(BatchNormalization())\n",
    "        \n",
    "        model.add(MaxPooling3D(pool_size=(2, 2, 2)))\n",
    "        \n",
    "\n",
    "        model.add(Flatten())\n",
    "        model.add(Dense(dense_neurons,activation='relu'))\n",
    "        model.add(BatchNormalization())\n",
    "        model.add(Dropout(dropout))\n",
    "\n",
    "        model.add(Dense(dense_neurons,activation='relu'))\n",
    "        model.add(BatchNormalization())\n",
    "        model.add(Dropout(dropout))\n",
    "\n",
    "\n",
    "        model.add(Dense(self.num_classes,activation='softmax'))\n",
    "\n",
    "        optimiser = tf.keras.optimizers.SGD()\n",
    "        model.compile(optimizer=optimiser, loss='categorical_crossentropy', metrics=['categorical_accuracy'])\n",
    "        return model"
   ]
  },
  {
   "cell_type": "code",
   "execution_count": 19,
   "metadata": {},
   "outputs": [
    {
     "name": "stdout",
     "output_type": "stream",
     "text": [
      "Model: \"sequential_2\"\n",
      "_________________________________________________________________\n",
      " Layer (type)                Output Shape              Param #   \n",
      "=================================================================\n",
      " conv3d_4 (Conv3D)           (None, 16, 120, 120, 16)  1312      \n",
      "                                                                 \n",
      " activation_4 (Activation)   (None, 16, 120, 120, 16)  0         \n",
      "                                                                 \n",
      " batch_normalization_11 (Bat  (None, 16, 120, 120, 16)  64       \n",
      " chNormalization)                                                \n",
      "                                                                 \n",
      " conv3d_5 (Conv3D)           (None, 16, 120, 120, 16)  6928      \n",
      "                                                                 \n",
      " activation_5 (Activation)   (None, 16, 120, 120, 16)  0         \n",
      "                                                                 \n",
      " batch_normalization_12 (Bat  (None, 16, 120, 120, 16)  64       \n",
      " chNormalization)                                                \n",
      "                                                                 \n",
      " max_pooling3d_4 (MaxPooling  (None, 8, 60, 60, 16)    0         \n",
      " 3D)                                                             \n",
      "                                                                 \n",
      " conv3d_6 (Conv3D)           (None, 8, 60, 60, 32)     13856     \n",
      "                                                                 \n",
      " activation_6 (Activation)   (None, 8, 60, 60, 32)     0         \n",
      "                                                                 \n",
      " batch_normalization_13 (Bat  (None, 8, 60, 60, 32)    128       \n",
      " chNormalization)                                                \n",
      "                                                                 \n",
      " conv3d_7 (Conv3D)           (None, 8, 60, 60, 32)     27680     \n",
      "                                                                 \n",
      " activation_7 (Activation)   (None, 8, 60, 60, 32)     0         \n",
      "                                                                 \n",
      " batch_normalization_14 (Bat  (None, 8, 60, 60, 32)    128       \n",
      " chNormalization)                                                \n",
      "                                                                 \n",
      " max_pooling3d_5 (MaxPooling  (None, 4, 30, 30, 32)    0         \n",
      " 3D)                                                             \n",
      "                                                                 \n",
      " conv3d_8 (Conv3D)           (None, 4, 30, 30, 64)     55360     \n",
      "                                                                 \n",
      " activation_8 (Activation)   (None, 4, 30, 30, 64)     0         \n",
      "                                                                 \n",
      " batch_normalization_15 (Bat  (None, 4, 30, 30, 64)    256       \n",
      " chNormalization)                                                \n",
      "                                                                 \n",
      " conv3d_9 (Conv3D)           (None, 4, 30, 30, 64)     110656    \n",
      "                                                                 \n",
      " activation_9 (Activation)   (None, 4, 30, 30, 64)     0         \n",
      "                                                                 \n",
      " batch_normalization_16 (Bat  (None, 4, 30, 30, 64)    256       \n",
      " chNormalization)                                                \n",
      "                                                                 \n",
      " max_pooling3d_6 (MaxPooling  (None, 2, 15, 15, 64)    0         \n",
      " 3D)                                                             \n",
      "                                                                 \n",
      " conv3d_10 (Conv3D)          (None, 2, 15, 15, 128)    221312    \n",
      "                                                                 \n",
      " activation_10 (Activation)  (None, 2, 15, 15, 128)    0         \n",
      "                                                                 \n",
      " batch_normalization_17 (Bat  (None, 2, 15, 15, 128)   512       \n",
      " chNormalization)                                                \n",
      "                                                                 \n",
      " conv3d_11 (Conv3D)          (None, 2, 15, 15, 128)    442496    \n",
      "                                                                 \n",
      " activation_11 (Activation)  (None, 2, 15, 15, 128)    0         \n",
      "                                                                 \n",
      " batch_normalization_18 (Bat  (None, 2, 15, 15, 128)   512       \n",
      " chNormalization)                                                \n",
      "                                                                 \n",
      " max_pooling3d_7 (MaxPooling  (None, 1, 7, 7, 128)     0         \n",
      " 3D)                                                             \n",
      "                                                                 \n",
      " flatten_2 (Flatten)         (None, 6272)              0         \n",
      "                                                                 \n",
      " dense_5 (Dense)             (None, 256)               1605888   \n",
      "                                                                 \n",
      " batch_normalization_19 (Bat  (None, 256)              1024      \n",
      " chNormalization)                                                \n",
      "                                                                 \n",
      " dropout_4 (Dropout)         (None, 256)               0         \n",
      "                                                                 \n",
      " dense_6 (Dense)             (None, 256)               65792     \n",
      "                                                                 \n",
      " batch_normalization_20 (Bat  (None, 256)              1024      \n",
      " chNormalization)                                                \n",
      "                                                                 \n",
      " dropout_5 (Dropout)         (None, 256)               0         \n",
      "                                                                 \n",
      " dense_7 (Dense)             (None, 5)                 1285      \n",
      "                                                                 \n",
      "=================================================================\n",
      "Total params: 2,556,533\n",
      "Trainable params: 2,554,549\n",
      "Non-trainable params: 1,984\n",
      "_________________________________________________________________\n"
     ]
    }
   ],
   "source": [
    "conv_3d4=ModelConv3D4()\n",
    "conv_3d4.initialize_path(project_folder)\n",
    "conv_3d4.initialize_image_properties(image_height=120,image_width=120)\n",
    "conv_3d4.initialize_hyperparams(frames_to_sample=16,batch_size=20,num_epochs=25)\n",
    "conv_3d4_model=conv_3d4.define_model(filtersize=(3,3,3),dense_neurons=256,dropout=0.5)\n",
    "conv_3d4_model.summary()"
   ]
  },
  {
   "cell_type": "code",
   "execution_count": 20,
   "metadata": {},
   "outputs": [
    {
     "name": "stdout",
     "output_type": "stream",
     "text": [
      "Total Params: 2556533\n",
      "WARNING:tensorflow:`period` argument is deprecated. Please use `save_freq` to specify the frequency in number of batches seen.\n",
      "Epoch 1/25\n",
      "34/34 [==============================] - ETA: 0s - loss: 2.3102 - categorical_accuracy: 0.3107\n",
      "Epoch 00001: saving model to model_init_2023-03-1110_39_19.614112/model-00001-2.31021-0.31071-3.53293-0.24000.h5\n",
      "34/34 [==============================] - 161s 5s/step - loss: 2.3102 - categorical_accuracy: 0.3107 - val_loss: 3.5329 - val_categorical_accuracy: 0.2400 - lr: 0.0100\n",
      "Epoch 2/25\n",
      "34/34 [==============================] - ETA: 0s - loss: 1.7159 - categorical_accuracy: 0.4148\n",
      "Epoch 00002: saving model to model_init_2023-03-1110_39_19.614112/model-00002-1.71592-0.41478-6.14240-0.25000.h5\n",
      "34/34 [==============================] - 157s 5s/step - loss: 1.7159 - categorical_accuracy: 0.4148 - val_loss: 6.1424 - val_categorical_accuracy: 0.2500 - lr: 0.0100\n",
      "Epoch 3/25\n",
      "34/34 [==============================] - ETA: 0s - loss: 1.5260 - categorical_accuracy: 0.4819\n",
      "Epoch 00003: saving model to model_init_2023-03-1110_39_19.614112/model-00003-1.52604-0.48190-17.45867-0.20000.h5\n",
      "34/34 [==============================] - 158s 5s/step - loss: 1.5260 - categorical_accuracy: 0.4819 - val_loss: 17.4587 - val_categorical_accuracy: 0.2000 - lr: 0.0100\n",
      "Epoch 4/25\n",
      "34/34 [==============================] - ETA: 0s - loss: 1.5006 - categorical_accuracy: 0.4721\n",
      "Epoch 00004: saving model to model_init_2023-03-1110_39_19.614112/model-00004-1.50064-0.47210-2.25216-0.19000.h5\n",
      "34/34 [==============================] - 158s 5s/step - loss: 1.5006 - categorical_accuracy: 0.4721 - val_loss: 2.2522 - val_categorical_accuracy: 0.1900 - lr: 0.0100\n",
      "Epoch 5/25\n",
      "34/34 [==============================] - ETA: 0s - loss: 1.3455 - categorical_accuracy: 0.5128\n",
      "Epoch 00005: saving model to model_init_2023-03-1110_39_19.614112/model-00005-1.34551-0.51282-1.98128-0.35000.h5\n",
      "34/34 [==============================] - 152s 5s/step - loss: 1.3455 - categorical_accuracy: 0.5128 - val_loss: 1.9813 - val_categorical_accuracy: 0.3500 - lr: 0.0100\n",
      "Epoch 6/25\n",
      "34/34 [==============================] - ETA: 0s - loss: 1.1943 - categorical_accuracy: 0.5475\n",
      "Epoch 00006: saving model to model_init_2023-03-1110_39_19.614112/model-00006-1.19427-0.54751-1.32419-0.44000.h5\n",
      "34/34 [==============================] - 150s 5s/step - loss: 1.1943 - categorical_accuracy: 0.5475 - val_loss: 1.3242 - val_categorical_accuracy: 0.4400 - lr: 0.0100\n",
      "Epoch 7/25\n",
      "34/34 [==============================] - ETA: 0s - loss: 1.1354 - categorical_accuracy: 0.5777\n",
      "Epoch 00007: saving model to model_init_2023-03-1110_39_19.614112/model-00007-1.13544-0.57768-1.46122-0.40000.h5\n",
      "34/34 [==============================] - 149s 5s/step - loss: 1.1354 - categorical_accuracy: 0.5777 - val_loss: 1.4612 - val_categorical_accuracy: 0.4000 - lr: 0.0100\n",
      "Epoch 8/25\n",
      "34/34 [==============================] - ETA: 0s - loss: 1.0130 - categorical_accuracy: 0.6365\n",
      "Epoch 00008: saving model to model_init_2023-03-1110_39_19.614112/model-00008-1.01301-0.63650-1.64218-0.37000.h5\n",
      "34/34 [==============================] - 151s 5s/step - loss: 1.0130 - categorical_accuracy: 0.6365 - val_loss: 1.6422 - val_categorical_accuracy: 0.3700 - lr: 0.0100\n",
      "Epoch 9/25\n",
      "34/34 [==============================] - ETA: 0s - loss: 0.8884 - categorical_accuracy: 0.6682\n",
      "Epoch 00009: saving model to model_init_2023-03-1110_39_19.614112/model-00009-0.88838-0.66817-1.28185-0.52000.h5\n",
      "34/34 [==============================] - 149s 5s/step - loss: 0.8884 - categorical_accuracy: 0.6682 - val_loss: 1.2819 - val_categorical_accuracy: 0.5200 - lr: 0.0100\n",
      "Epoch 10/25\n",
      "34/34 [==============================] - ETA: 0s - loss: 0.8431 - categorical_accuracy: 0.6704\n",
      "Epoch 00010: saving model to model_init_2023-03-1110_39_19.614112/model-00010-0.84315-0.67044-1.11455-0.50000.h5\n",
      "34/34 [==============================] - 150s 5s/step - loss: 0.8431 - categorical_accuracy: 0.6704 - val_loss: 1.1145 - val_categorical_accuracy: 0.5000 - lr: 0.0100\n",
      "Epoch 11/25\n",
      "34/34 [==============================] - ETA: 0s - loss: 0.8182 - categorical_accuracy: 0.6840\n",
      "Epoch 00011: saving model to model_init_2023-03-1110_39_19.614112/model-00011-0.81817-0.68401-1.43381-0.45000.h5\n",
      "34/34 [==============================] - 150s 5s/step - loss: 0.8182 - categorical_accuracy: 0.6840 - val_loss: 1.4338 - val_categorical_accuracy: 0.4500 - lr: 0.0100\n",
      "Epoch 12/25\n",
      "34/34 [==============================] - ETA: 0s - loss: 0.7835 - categorical_accuracy: 0.6953\n",
      "Epoch 00012: saving model to model_init_2023-03-1110_39_19.614112/model-00012-0.78351-0.69532-2.37996-0.40000.h5\n",
      "34/34 [==============================] - 151s 5s/step - loss: 0.7835 - categorical_accuracy: 0.6953 - val_loss: 2.3800 - val_categorical_accuracy: 0.4000 - lr: 0.0100\n",
      "Epoch 13/25\n",
      "34/34 [==============================] - ETA: 0s - loss: 0.7462 - categorical_accuracy: 0.7300\n",
      "Epoch 00013: saving model to model_init_2023-03-1110_39_19.614112/model-00013-0.74619-0.73002-1.25335-0.56000.h5\n",
      "34/34 [==============================] - 151s 5s/step - loss: 0.7462 - categorical_accuracy: 0.7300 - val_loss: 1.2533 - val_categorical_accuracy: 0.5600 - lr: 0.0100\n",
      "Epoch 14/25\n",
      "34/34 [==============================] - ETA: 0s - loss: 0.6118 - categorical_accuracy: 0.7707\n",
      "Epoch 00014: saving model to model_init_2023-03-1110_39_19.614112/model-00014-0.61182-0.77074-0.78863-0.71000.h5\n",
      "34/34 [==============================] - 150s 5s/step - loss: 0.6118 - categorical_accuracy: 0.7707 - val_loss: 0.7886 - val_categorical_accuracy: 0.7100 - lr: 0.0100\n",
      "Epoch 15/25\n",
      "34/34 [==============================] - ETA: 0s - loss: 0.5174 - categorical_accuracy: 0.8054\n",
      "Epoch 00015: saving model to model_init_2023-03-1110_39_19.614112/model-00015-0.51741-0.80543-1.46134-0.50000.h5\n",
      "34/34 [==============================] - 150s 5s/step - loss: 0.5174 - categorical_accuracy: 0.8054 - val_loss: 1.4613 - val_categorical_accuracy: 0.5000 - lr: 0.0100\n",
      "Epoch 16/25\n",
      "34/34 [==============================] - ETA: 0s - loss: 0.5405 - categorical_accuracy: 0.7881\n",
      "Epoch 00016: saving model to model_init_2023-03-1110_39_19.614112/model-00016-0.54053-0.78808-0.82840-0.69000.h5\n",
      "34/34 [==============================] - 151s 5s/step - loss: 0.5405 - categorical_accuracy: 0.7881 - val_loss: 0.8284 - val_categorical_accuracy: 0.6900 - lr: 0.0100\n",
      "Epoch 17/25\n",
      "34/34 [==============================] - ETA: 0s - loss: 0.4673 - categorical_accuracy: 0.8273\n",
      "Epoch 00017: saving model to model_init_2023-03-1110_39_19.614112/model-00017-0.46725-0.82730-1.10843-0.61000.h5\n",
      "34/34 [==============================] - 150s 5s/step - loss: 0.4673 - categorical_accuracy: 0.8273 - val_loss: 1.1084 - val_categorical_accuracy: 0.6100 - lr: 0.0100\n",
      "Epoch 18/25\n",
      "34/34 [==============================] - ETA: 0s - loss: 0.4443 - categorical_accuracy: 0.8303\n",
      "Epoch 00018: saving model to model_init_2023-03-1110_39_19.614112/model-00018-0.44434-0.83032-0.83050-0.70000.h5\n",
      "\n",
      "Epoch 00018: ReduceLROnPlateau reducing learning rate to 0.0019999999552965165.\n",
      "34/34 [==============================] - 150s 5s/step - loss: 0.4443 - categorical_accuracy: 0.8303 - val_loss: 0.8305 - val_categorical_accuracy: 0.7000 - lr: 0.0100\n",
      "Epoch 19/25\n",
      "34/34 [==============================] - ETA: 0s - loss: 0.3797 - categorical_accuracy: 0.8665\n",
      "Epoch 00019: saving model to model_init_2023-03-1110_39_19.614112/model-00019-0.37965-0.86652-0.50246-0.79000.h5\n",
      "34/34 [==============================] - 153s 5s/step - loss: 0.3797 - categorical_accuracy: 0.8665 - val_loss: 0.5025 - val_categorical_accuracy: 0.7900 - lr: 0.0020\n",
      "Epoch 20/25\n",
      "34/34 [==============================] - ETA: 0s - loss: 0.3383 - categorical_accuracy: 0.8816\n",
      "Epoch 00020: saving model to model_init_2023-03-1110_39_19.614112/model-00020-0.33826-0.88160-0.84145-0.62000.h5\n",
      "34/34 [==============================] - 151s 5s/step - loss: 0.3383 - categorical_accuracy: 0.8816 - val_loss: 0.8415 - val_categorical_accuracy: 0.6200 - lr: 0.0020\n",
      "Epoch 21/25\n",
      "34/34 [==============================] - ETA: 0s - loss: 0.3149 - categorical_accuracy: 0.8824\n",
      "Epoch 00021: saving model to model_init_2023-03-1110_39_19.614112/model-00021-0.31490-0.88235-0.42319-0.88000.h5\n",
      "34/34 [==============================] - 152s 5s/step - loss: 0.3149 - categorical_accuracy: 0.8824 - val_loss: 0.4232 - val_categorical_accuracy: 0.8800 - lr: 0.0020\n",
      "Epoch 22/25\n",
      "34/34 [==============================] - ETA: 0s - loss: 0.3508 - categorical_accuracy: 0.8763\n",
      "Epoch 00022: saving model to model_init_2023-03-1110_39_19.614112/model-00022-0.35080-0.87632-0.47126-0.81000.h5\n",
      "34/34 [==============================] - 149s 5s/step - loss: 0.3508 - categorical_accuracy: 0.8763 - val_loss: 0.4713 - val_categorical_accuracy: 0.8100 - lr: 0.0020\n",
      "Epoch 23/25\n",
      "34/34 [==============================] - ETA: 0s - loss: 0.3331 - categorical_accuracy: 0.8854\n",
      "Epoch 00023: saving model to model_init_2023-03-1110_39_19.614112/model-00023-0.33310-0.88537-0.37601-0.87000.h5\n",
      "34/34 [==============================] - 153s 5s/step - loss: 0.3331 - categorical_accuracy: 0.8854 - val_loss: 0.3760 - val_categorical_accuracy: 0.8700 - lr: 0.0020\n",
      "Epoch 24/25\n",
      "34/34 [==============================] - ETA: 0s - loss: 0.3069 - categorical_accuracy: 0.8914\n",
      "Epoch 00024: saving model to model_init_2023-03-1110_39_19.614112/model-00024-0.30688-0.89140-0.43585-0.87000.h5\n",
      "34/34 [==============================] - 152s 5s/step - loss: 0.3069 - categorical_accuracy: 0.8914 - val_loss: 0.4358 - val_categorical_accuracy: 0.8700 - lr: 0.0020\n",
      "Epoch 25/25\n",
      "34/34 [==============================] - ETA: 0s - loss: 0.3250 - categorical_accuracy: 0.8808\n",
      "Epoch 00025: saving model to model_init_2023-03-1110_39_19.614112/model-00025-0.32500-0.88084-0.37577-0.86000.h5\n",
      "34/34 [==============================] - 151s 5s/step - loss: 0.3250 - categorical_accuracy: 0.8808 - val_loss: 0.3758 - val_categorical_accuracy: 0.8600 - lr: 0.0020\n"
     ]
    }
   ],
   "source": [
    "print(\"Total Params:\", conv_3d4_model.count_params())\n",
    "history_model4=conv_3d4.train_model(conv_3d4_model,augment_data=True)"
   ]
  },
  {
   "cell_type": "code",
   "execution_count": 21,
   "metadata": {},
   "outputs": [
    {
     "data": {
      "image/png": "[encoded data removed]",
      "text/plain": [
       "<Figure size 1080x288 with 2 Axes>"
      ]
     },
     "metadata": {
      "needs_background": "light"
     },
     "output_type": "display_data"
    }
   ],
   "source": [
    "plot(history_model4)"
   ]
  },
  {
   "cell_type": "markdown",
   "metadata": {},
   "source": [
    "With more layers we see much performance improvement. We get a best validation accuracy of 86% . Let's try adding dropouts at the convolution layers"
   ]
  },
  {
   "cell_type": "markdown",
   "metadata": {},
   "source": [
    "## Model 5"
   ]
  },
  {
   "cell_type": "markdown",
   "metadata": {},
   "source": [
    "Adding dropout at convolution layers"
   ]
  },
  {
   "cell_type": "code",
   "execution_count": 27,
   "metadata": {},
   "outputs": [],
   "source": [
    "class ModelConv3D5(ModelBuilder):\n",
    "    \n",
    "    def define_model(self,filtersize=(3,3,3),dense_neurons=64,dropout=0.25):\n",
    "\n",
    "        model = Sequential()\n",
    "        model.add(Conv3D(16, filtersize, padding='same',\n",
    "                 input_shape=(self.frames_to_sample,self.image_height,self.image_width,self.channels)))\n",
    "        model.add(Activation('relu'))\n",
    "        model.add(BatchNormalization())\n",
    "        \n",
    "        model.add(Conv3D(16, filtersize, padding='same',\n",
    "                 input_shape=(self.frames_to_sample,self.image_height,self.image_width,self.channels)))\n",
    "        model.add(Activation('relu'))\n",
    "        model.add(BatchNormalization())\n",
    "        \n",
    "        model.add(MaxPooling3D(pool_size=(2, 2, 2)))\n",
    "        model.add(Dropout(dropout))\n",
    "\n",
    "        model.add(Conv3D(32, filtersize, padding='same'))\n",
    "        model.add(Activation('relu'))\n",
    "        model.add(BatchNormalization())\n",
    "        \n",
    "        model.add(Conv3D(32, filtersize, padding='same'))\n",
    "        model.add(Activation('relu'))\n",
    "        model.add(BatchNormalization())\n",
    "        \n",
    "        model.add(MaxPooling3D(pool_size=(2, 2, 2)))\n",
    "        model.add(Dropout(dropout))\n",
    "\n",
    "        model.add(Conv3D(64, filtersize, padding='same'))\n",
    "        model.add(Activation('relu'))\n",
    "        model.add(BatchNormalization())\n",
    "        \n",
    "        model.add(Conv3D(64, filtersize, padding='same'))\n",
    "        model.add(Activation('relu'))\n",
    "        model.add(BatchNormalization())\n",
    "        \n",
    "        model.add(MaxPooling3D(pool_size=(2, 2, 2)))\n",
    "        model.add(Dropout(dropout))\n",
    "\n",
    "        model.add(Conv3D(128, filtersize, padding='same'))\n",
    "        model.add(Activation('relu'))\n",
    "        model.add(BatchNormalization())\n",
    "        \n",
    "        model.add(Conv3D(128, filtersize, padding='same'))\n",
    "        model.add(Activation('relu'))\n",
    "        model.add(BatchNormalization())\n",
    "        \n",
    "        model.add(MaxPooling3D(pool_size=(2, 2, 2)))\n",
    "        model.add(Dropout(dropout))\n",
    "        \n",
    "        model.add(Flatten())\n",
    "        model.add(Dense(dense_neurons,activation='relu'))\n",
    "        model.add(BatchNormalization())\n",
    "        model.add(Dropout(dropout))\n",
    "\n",
    "        model.add(Dense(dense_neurons,activation='relu'))\n",
    "        model.add(BatchNormalization())\n",
    "        model.add(Dropout(dropout))\n",
    "\n",
    "\n",
    "        model.add(Dense(self.num_classes,activation='softmax'))\n",
    "\n",
    "        optimiser = tf.keras.optimizers.Adam()\n",
    "        model.compile(optimizer=optimiser, loss='categorical_crossentropy', metrics=['categorical_accuracy'])\n",
    "        return model"
   ]
  },
  {
   "cell_type": "code",
   "execution_count": 28,
   "metadata": {},
   "outputs": [
    {
     "name": "stdout",
     "output_type": "stream",
     "text": [
      "Model: \"sequential_5\"\n",
      "_________________________________________________________________\n",
      " Layer (type)                Output Shape              Param #   \n",
      "=================================================================\n",
      " conv3d_24 (Conv3D)          (None, 16, 120, 120, 16)  1312      \n",
      "                                                                 \n",
      " activation_24 (Activation)  (None, 16, 120, 120, 16)  0         \n",
      "                                                                 \n",
      " batch_normalization_34 (Bat  (None, 16, 120, 120, 16)  64       \n",
      " chNormalization)                                                \n",
      "                                                                 \n",
      " conv3d_25 (Conv3D)          (None, 16, 120, 120, 16)  6928      \n",
      "                                                                 \n",
      " activation_25 (Activation)  (None, 16, 120, 120, 16)  0         \n",
      "                                                                 \n",
      " batch_normalization_35 (Bat  (None, 16, 120, 120, 16)  64       \n",
      " chNormalization)                                                \n",
      "                                                                 \n",
      " max_pooling3d_20 (MaxPoolin  (None, 8, 60, 60, 16)    0         \n",
      " g3D)                                                            \n",
      "                                                                 \n",
      " dropout_10 (Dropout)        (None, 8, 60, 60, 16)     0         \n",
      "                                                                 \n",
      " conv3d_26 (Conv3D)          (None, 8, 60, 60, 32)     13856     \n",
      "                                                                 \n",
      " activation_26 (Activation)  (None, 8, 60, 60, 32)     0         \n",
      "                                                                 \n",
      " batch_normalization_36 (Bat  (None, 8, 60, 60, 32)    128       \n",
      " chNormalization)                                                \n",
      "                                                                 \n",
      " conv3d_27 (Conv3D)          (None, 8, 60, 60, 32)     27680     \n",
      "                                                                 \n",
      " activation_27 (Activation)  (None, 8, 60, 60, 32)     0         \n",
      "                                                                 \n",
      " batch_normalization_37 (Bat  (None, 8, 60, 60, 32)    128       \n",
      " chNormalization)                                                \n",
      "                                                                 \n",
      " max_pooling3d_21 (MaxPoolin  (None, 4, 30, 30, 32)    0         \n",
      " g3D)                                                            \n",
      "                                                                 \n",
      " dropout_11 (Dropout)        (None, 4, 30, 30, 32)     0         \n",
      "                                                                 \n",
      " conv3d_28 (Conv3D)          (None, 4, 30, 30, 64)     55360     \n",
      "                                                                 \n",
      " activation_28 (Activation)  (None, 4, 30, 30, 64)     0         \n",
      "                                                                 \n",
      " batch_normalization_38 (Bat  (None, 4, 30, 30, 64)    256       \n",
      " chNormalization)                                                \n",
      "                                                                 \n",
      " conv3d_29 (Conv3D)          (None, 4, 30, 30, 64)     110656    \n",
      "                                                                 \n",
      " activation_29 (Activation)  (None, 4, 30, 30, 64)     0         \n",
      "                                                                 \n",
      " batch_normalization_39 (Bat  (None, 4, 30, 30, 64)    256       \n",
      " chNormalization)                                                \n",
      "                                                                 \n",
      " max_pooling3d_22 (MaxPoolin  (None, 2, 15, 15, 64)    0         \n",
      " g3D)                                                            \n",
      "                                                                 \n",
      " dropout_12 (Dropout)        (None, 2, 15, 15, 64)     0         \n",
      "                                                                 \n",
      " conv3d_30 (Conv3D)          (None, 2, 15, 15, 128)    221312    \n",
      "                                                                 \n",
      " activation_30 (Activation)  (None, 2, 15, 15, 128)    0         \n",
      "                                                                 \n",
      " batch_normalization_40 (Bat  (None, 2, 15, 15, 128)   512       \n",
      " chNormalization)                                                \n",
      "                                                                 \n",
      " conv3d_31 (Conv3D)          (None, 2, 15, 15, 128)    442496    \n",
      "                                                                 \n",
      " activation_31 (Activation)  (None, 2, 15, 15, 128)    0         \n",
      "                                                                 \n",
      " batch_normalization_41 (Bat  (None, 2, 15, 15, 128)   512       \n",
      " chNormalization)                                                \n",
      "                                                                 \n",
      " max_pooling3d_23 (MaxPoolin  (None, 1, 7, 7, 128)     0         \n",
      " g3D)                                                            \n",
      "                                                                 \n",
      " dropout_13 (Dropout)        (None, 1, 7, 7, 128)      0         \n",
      "                                                                 \n",
      " flatten_5 (Flatten)         (None, 6272)              0         \n",
      "                                                                 \n",
      " dense_15 (Dense)            (None, 256)               1605888   \n",
      "                                                                 \n",
      " batch_normalization_42 (Bat  (None, 256)              1024      \n",
      " chNormalization)                                                \n",
      "                                                                 \n",
      " dropout_14 (Dropout)        (None, 256)               0         \n",
      "                                                                 \n",
      " dense_16 (Dense)            (None, 256)               65792     \n",
      "                                                                 \n",
      " batch_normalization_43 (Bat  (None, 256)              1024      \n",
      " chNormalization)                                                \n",
      "                                                                 \n",
      " dropout_15 (Dropout)        (None, 256)               0         \n",
      "                                                                 \n",
      " dense_17 (Dense)            (None, 5)                 1285      \n",
      "                                                                 \n",
      "=================================================================\n",
      "Total params: 2,556,533\n",
      "Trainable params: 2,554,549\n",
      "Non-trainable params: 1,984\n",
      "_________________________________________________________________\n"
     ]
    }
   ],
   "source": [
    "conv_3d5=ModelConv3D5()\n",
    "conv_3d5.initialize_path(project_folder)\n",
    "conv_3d5.initialize_image_properties(image_height=120,image_width=120)\n",
    "conv_3d5.initialize_hyperparams(frames_to_sample=16,batch_size=20,num_epochs=15)\n",
    "conv_3d5_model=conv_3d5.define_model(filtersize=(3,3,3),dense_neurons=256,dropout=0.25)\n",
    "conv_3d5_model.summary()"
   ]
  },
  {
   "cell_type": "code",
   "execution_count": 29,
   "metadata": {},
   "outputs": [
    {
     "name": "stdout",
     "output_type": "stream",
     "text": [
      "Total Params: 2556533\n",
      "WARNING:tensorflow:`period` argument is deprecated. Please use `save_freq` to specify the frequency in number of batches seen.\n",
      "Epoch 1/15\n"
     ]
    },
    {
     "name": "stderr",
     "output_type": "stream",
     "text": [
      "2023-03-11 07:14:13.655230: I tensorflow/stream_executor/cuda/cuda_dnn.cc:377] Loaded cuDNN version 8302\n"
     ]
    },
    {
     "name": "stdout",
     "output_type": "stream",
     "text": [
      "34/34 [==============================] - ETA: 0s - loss: 1.6197 - categorical_accuracy: 0.4163\n",
      "Epoch 00001: saving model to model_init_2023-03-1107_14_06.328817/model-00001-1.61971-0.41629-1.87558-0.20000.h5\n",
      "34/34 [==============================] - 165s 5s/step - loss: 1.6197 - categorical_accuracy: 0.4163 - val_loss: 1.8756 - val_categorical_accuracy: 0.2000 - lr: 0.0010\n",
      "Epoch 2/15\n",
      "34/34 [==============================] - ETA: 0s - loss: 1.2830 - categorical_accuracy: 0.5302\n",
      "Epoch 00002: saving model to model_init_2023-03-1107_14_06.328817/model-00002-1.28297-0.53017-2.05542-0.26000.h5\n",
      "34/34 [==============================] - 159s 5s/step - loss: 1.2830 - categorical_accuracy: 0.5302 - val_loss: 2.0554 - val_categorical_accuracy: 0.2600 - lr: 0.0010\n",
      "Epoch 3/15\n",
      "34/34 [==============================] - ETA: 0s - loss: 1.0035 - categorical_accuracy: 0.6244\n",
      "Epoch 00003: saving model to model_init_2023-03-1107_14_06.328817/model-00003-1.00349-0.62443-3.27899-0.18000.h5\n",
      "34/34 [==============================] - 162s 5s/step - loss: 1.0035 - categorical_accuracy: 0.6244 - val_loss: 3.2790 - val_categorical_accuracy: 0.1800 - lr: 0.0010\n",
      "Epoch 4/15\n",
      "34/34 [==============================] - ETA: 0s - loss: 1.0626 - categorical_accuracy: 0.6146\n",
      "Epoch 00004: saving model to model_init_2023-03-1107_14_06.328817/model-00004-1.06257-0.61463-2.14745-0.24000.h5\n",
      "34/34 [==============================] - 166s 5s/step - loss: 1.0626 - categorical_accuracy: 0.6146 - val_loss: 2.1474 - val_categorical_accuracy: 0.2400 - lr: 0.0010\n",
      "Epoch 5/15\n",
      "34/34 [==============================] - ETA: 0s - loss: 0.8269 - categorical_accuracy: 0.6802\n",
      "Epoch 00005: saving model to model_init_2023-03-1107_14_06.328817/model-00005-0.82689-0.68024-2.36892-0.32000.h5\n",
      "\n",
      "Epoch 00005: ReduceLROnPlateau reducing learning rate to 0.00020000000949949026.\n",
      "34/34 [==============================] - 159s 5s/step - loss: 0.8269 - categorical_accuracy: 0.6802 - val_loss: 2.3689 - val_categorical_accuracy: 0.3200 - lr: 0.0010\n",
      "Epoch 6/15\n",
      "34/34 [==============================] - ETA: 0s - loss: 0.6223 - categorical_accuracy: 0.7677\n",
      "Epoch 00006: saving model to model_init_2023-03-1107_14_06.328817/model-00006-0.62234-0.76772-2.81384-0.30000.h5\n",
      "34/34 [==============================] - 156s 5s/step - loss: 0.6223 - categorical_accuracy: 0.7677 - val_loss: 2.8138 - val_categorical_accuracy: 0.3000 - lr: 2.0000e-04\n",
      "Epoch 7/15\n",
      "34/34 [==============================] - ETA: 0s - loss: 0.5022 - categorical_accuracy: 0.8137\n",
      "Epoch 00007: saving model to model_init_2023-03-1107_14_06.328817/model-00007-0.50225-0.81373-2.54071-0.34000.h5\n",
      "34/34 [==============================] - 156s 5s/step - loss: 0.5022 - categorical_accuracy: 0.8137 - val_loss: 2.5407 - val_categorical_accuracy: 0.3400 - lr: 2.0000e-04\n",
      "Epoch 8/15\n",
      "34/34 [==============================] - ETA: 0s - loss: 0.4757 - categorical_accuracy: 0.8258\n",
      "Epoch 00008: saving model to model_init_2023-03-1107_14_06.328817/model-00008-0.47571-0.82579-2.35066-0.34000.h5\n",
      "34/34 [==============================] - 156s 5s/step - loss: 0.4757 - categorical_accuracy: 0.8258 - val_loss: 2.3507 - val_categorical_accuracy: 0.3400 - lr: 2.0000e-04\n",
      "Epoch 9/15\n",
      "34/34 [==============================] - ETA: 0s - loss: 0.4328 - categorical_accuracy: 0.8446\n",
      "Epoch 00009: saving model to model_init_2023-03-1107_14_06.328817/model-00009-0.43279-0.84465-3.18281-0.27000.h5\n",
      "\n",
      "Epoch 00009: ReduceLROnPlateau reducing learning rate to 4.0000001899898055e-05.\n",
      "34/34 [==============================] - 158s 5s/step - loss: 0.4328 - categorical_accuracy: 0.8446 - val_loss: 3.1828 - val_categorical_accuracy: 0.2700 - lr: 2.0000e-04\n",
      "Epoch 10/15\n",
      "34/34 [==============================] - ETA: 0s - loss: 0.3730 - categorical_accuracy: 0.8635\n",
      "Epoch 00010: saving model to model_init_2023-03-1107_14_06.328817/model-00010-0.37296-0.86350-2.42745-0.40000.h5\n",
      "34/34 [==============================] - 156s 5s/step - loss: 0.3730 - categorical_accuracy: 0.8635 - val_loss: 2.4275 - val_categorical_accuracy: 0.4000 - lr: 4.0000e-05\n",
      "Epoch 11/15\n",
      "34/34 [==============================] - ETA: 0s - loss: 0.3565 - categorical_accuracy: 0.8673\n",
      "Epoch 00011: saving model to model_init_2023-03-1107_14_06.328817/model-00011-0.35647-0.86727-2.55869-0.39000.h5\n",
      "34/34 [==============================] - 157s 5s/step - loss: 0.3565 - categorical_accuracy: 0.8673 - val_loss: 2.5587 - val_categorical_accuracy: 0.3900 - lr: 4.0000e-05\n",
      "Epoch 00011: early stopping\n"
     ]
    }
   ],
   "source": [
    "print(\"Total Params:\", conv_3d5_model.count_params())\n",
    "history_model5=conv_3d5.train_model(conv_3d5_model,augment_data=True)"
   ]
  },
  {
   "cell_type": "code",
   "execution_count": 30,
   "metadata": {},
   "outputs": [
    {
     "data": {
      "image/png": "[encoded data removed]",
      "text/plain": [
       "<Figure size 1080x288 with 2 Axes>"
      ]
     },
     "metadata": {
      "needs_background": "light"
     },
     "output_type": "display_data"
    }
   ],
   "source": [
    "plot(history_model5)"
   ]
  },
  {
   "cell_type": "markdown",
   "metadata": {},
   "source": [
    "Model is overfitting"
   ]
  },
  {
   "cell_type": "markdown",
   "metadata": {},
   "source": [
    "## Model 6"
   ]
  },
  {
   "cell_type": "markdown",
   "metadata": {},
   "source": [
    "Reducing number of parameters"
   ]
  },
  {
   "cell_type": "code",
   "execution_count": 31,
   "metadata": {},
   "outputs": [],
   "source": [
    "class ModelConv3D6(ModelBuilder):\n",
    "    \n",
    "    def define_model(self,dense_neurons=64,dropout=0.25):\n",
    "\n",
    "        model = Sequential()\n",
    "        model.add(Conv3D(16, (3, 3, 3), padding='same',\n",
    "                 input_shape=(self.frames_to_sample,self.image_height,self.image_width,self.channels)))\n",
    "        model.add(Activation('relu'))\n",
    "        model.add(BatchNormalization())\n",
    "        model.add(MaxPooling3D(pool_size=(2, 2, 2)))\n",
    "\n",
    "        model.add(Conv3D(32, (2, 2, 2), padding='same'))\n",
    "        model.add(Activation('relu'))\n",
    "        model.add(BatchNormalization())\n",
    "        model.add(MaxPooling3D(pool_size=(2, 2, 2)))\n",
    "\n",
    "        model.add(Conv3D(64, (2, 2, 2), padding='same'))\n",
    "        model.add(Activation('relu'))\n",
    "        model.add(BatchNormalization())\n",
    "        model.add(MaxPooling3D(pool_size=(2, 2, 2)))\n",
    "\n",
    "        model.add(Conv3D(128, (2, 2, 2), padding='same'))\n",
    "        model.add(Activation('relu'))\n",
    "        model.add(BatchNormalization())\n",
    "        model.add(MaxPooling3D(pool_size=(2, 2, 2)))\n",
    "        \n",
    "        model.add(Flatten())\n",
    "        model.add(Dense(dense_neurons,activation='relu'))\n",
    "        model.add(BatchNormalization())\n",
    "        model.add(Dropout(dropout))\n",
    "\n",
    "        model.add(Dense(dense_neurons,activation='relu'))\n",
    "        model.add(BatchNormalization())\n",
    "        model.add(Dropout(dropout))\n",
    "\n",
    "        model.add(Dense(self.num_classes,activation='softmax'))\n",
    "\n",
    "        optimiser = tf.keras.optimizers.Adam(lr=0.0002)\n",
    "        model.compile(optimizer=optimiser, loss='categorical_crossentropy', metrics=['categorical_accuracy'])\n",
    "        return model"
   ]
  },
  {
   "cell_type": "code",
   "execution_count": 32,
   "metadata": {},
   "outputs": [
    {
     "name": "stdout",
     "output_type": "stream",
     "text": [
      "Model: \"sequential_6\"\n",
      "_________________________________________________________________\n",
      " Layer (type)                Output Shape              Param #   \n",
      "=================================================================\n",
      " conv3d_32 (Conv3D)          (None, 16, 100, 100, 16)  1312      \n",
      "                                                                 \n",
      " activation_32 (Activation)  (None, 16, 100, 100, 16)  0         \n",
      "                                                                 \n",
      " batch_normalization_44 (Bat  (None, 16, 100, 100, 16)  64       \n",
      " chNormalization)                                                \n",
      "                                                                 \n",
      " max_pooling3d_24 (MaxPoolin  (None, 8, 50, 50, 16)    0         \n",
      " g3D)                                                            \n",
      "                                                                 \n",
      " conv3d_33 (Conv3D)          (None, 8, 50, 50, 32)     4128      \n",
      "                                                                 \n",
      " activation_33 (Activation)  (None, 8, 50, 50, 32)     0         \n",
      "                                                                 \n",
      " batch_normalization_45 (Bat  (None, 8, 50, 50, 32)    128       \n",
      " chNormalization)                                                \n",
      "                                                                 \n",
      " max_pooling3d_25 (MaxPoolin  (None, 4, 25, 25, 32)    0         \n",
      " g3D)                                                            \n",
      "                                                                 \n",
      " conv3d_34 (Conv3D)          (None, 4, 25, 25, 64)     16448     \n",
      "                                                                 \n",
      " activation_34 (Activation)  (None, 4, 25, 25, 64)     0         \n",
      "                                                                 \n",
      " batch_normalization_46 (Bat  (None, 4, 25, 25, 64)    256       \n",
      " chNormalization)                                                \n",
      "                                                                 \n",
      " max_pooling3d_26 (MaxPoolin  (None, 2, 12, 12, 64)    0         \n",
      " g3D)                                                            \n",
      "                                                                 \n",
      " conv3d_35 (Conv3D)          (None, 2, 12, 12, 128)    65664     \n",
      "                                                                 \n",
      " activation_35 (Activation)  (None, 2, 12, 12, 128)    0         \n",
      "                                                                 \n",
      " batch_normalization_47 (Bat  (None, 2, 12, 12, 128)   512       \n",
      " chNormalization)                                                \n",
      "                                                                 \n",
      " max_pooling3d_27 (MaxPoolin  (None, 1, 6, 6, 128)     0         \n",
      " g3D)                                                            \n",
      "                                                                 \n",
      " flatten_6 (Flatten)         (None, 4608)              0         \n",
      "                                                                 \n",
      " dense_18 (Dense)            (None, 128)               589952    \n",
      "                                                                 \n",
      " batch_normalization_48 (Bat  (None, 128)              512       \n",
      " chNormalization)                                                \n",
      "                                                                 \n",
      " dropout_16 (Dropout)        (None, 128)               0         \n",
      "                                                                 \n",
      " dense_19 (Dense)            (None, 128)               16512     \n",
      "                                                                 \n",
      " batch_normalization_49 (Bat  (None, 128)              512       \n",
      " chNormalization)                                                \n",
      "                                                                 \n",
      " dropout_17 (Dropout)        (None, 128)               0         \n",
      "                                                                 \n",
      " dense_20 (Dense)            (None, 5)                 645       \n",
      "                                                                 \n",
      "=================================================================\n",
      "Total params: 696,645\n",
      "Trainable params: 695,653\n",
      "Non-trainable params: 992\n",
      "_________________________________________________________________\n"
     ]
    }
   ],
   "source": [
    "conv_3d6=ModelConv3D6()\n",
    "conv_3d6.initialize_path(project_folder)\n",
    "conv_3d6.initialize_image_properties(image_height=100,image_width=100)\n",
    "conv_3d6.initialize_hyperparams(frames_to_sample=16,batch_size=20,num_epochs=20)\n",
    "conv_3d6_model=conv_3d6.define_model(dense_neurons=128,dropout=0.25)\n",
    "conv_3d6_model.summary()"
   ]
  },
  {
   "cell_type": "code",
   "execution_count": 33,
   "metadata": {},
   "outputs": [
    {
     "name": "stdout",
     "output_type": "stream",
     "text": [
      "Total Params: 696645\n",
      "WARNING:tensorflow:`period` argument is deprecated. Please use `save_freq` to specify the frequency in number of batches seen.\n",
      "Epoch 1/20\n",
      "34/34 [==============================] - ETA: 0s - loss: 1.7618 - categorical_accuracy: 0.3876\n",
      "Epoch 00001: saving model to model_init_2023-03-1107_46_31.799053/model-00001-1.76182-0.38763-1.72872-0.21000.h5\n",
      "34/34 [==============================] - 153s 5s/step - loss: 1.7618 - categorical_accuracy: 0.3876 - val_loss: 1.7287 - val_categorical_accuracy: 0.2100 - lr: 2.0000e-04\n",
      "Epoch 2/20\n",
      "34/34 [==============================] - ETA: 0s - loss: 1.0201 - categorical_accuracy: 0.6124\n",
      "Epoch 00002: saving model to model_init_2023-03-1107_46_31.799053/model-00002-1.02009-0.61237-2.24933-0.26000.h5\n",
      "34/34 [==============================] - 152s 5s/step - loss: 1.0201 - categorical_accuracy: 0.6124 - val_loss: 2.2493 - val_categorical_accuracy: 0.2600 - lr: 2.0000e-04\n",
      "Epoch 3/20\n",
      "34/34 [==============================] - ETA: 0s - loss: 0.7867 - categorical_accuracy: 0.7149\n",
      "Epoch 00003: saving model to model_init_2023-03-1107_46_31.799053/model-00003-0.78673-0.71493-3.14161-0.13000.h5\n",
      "34/34 [==============================] - 150s 5s/step - loss: 0.7867 - categorical_accuracy: 0.7149 - val_loss: 3.1416 - val_categorical_accuracy: 0.1300 - lr: 2.0000e-04\n",
      "Epoch 4/20\n",
      "34/34 [==============================] - ETA: 0s - loss: 0.6595 - categorical_accuracy: 0.7541\n",
      "Epoch 00004: saving model to model_init_2023-03-1107_46_31.799053/model-00004-0.65952-0.75415-3.96603-0.25000.h5\n",
      "34/34 [==============================] - 152s 5s/step - loss: 0.6595 - categorical_accuracy: 0.7541 - val_loss: 3.9660 - val_categorical_accuracy: 0.2500 - lr: 2.0000e-04\n",
      "Epoch 5/20\n",
      "34/34 [==============================] - ETA: 0s - loss: 0.5409 - categorical_accuracy: 0.7941\n",
      "Epoch 00005: saving model to model_init_2023-03-1107_46_31.799053/model-00005-0.54086-0.79412-4.39706-0.18000.h5\n",
      "\n",
      "Epoch 00005: ReduceLROnPlateau reducing learning rate to 3.9999998989515007e-05.\n",
      "34/34 [==============================] - 152s 5s/step - loss: 0.5409 - categorical_accuracy: 0.7941 - val_loss: 4.3971 - val_categorical_accuracy: 0.1800 - lr: 2.0000e-04\n",
      "Epoch 6/20\n",
      "34/34 [==============================] - ETA: 0s - loss: 0.4490 - categorical_accuracy: 0.8371\n",
      "Epoch 00006: saving model to model_init_2023-03-1107_46_31.799053/model-00006-0.44896-0.83710-4.41241-0.17000.h5\n",
      "34/34 [==============================] - 153s 5s/step - loss: 0.4490 - categorical_accuracy: 0.8371 - val_loss: 4.4124 - val_categorical_accuracy: 0.1700 - lr: 4.0000e-05\n",
      "Epoch 7/20\n",
      "34/34 [==============================] - ETA: 0s - loss: 0.4692 - categorical_accuracy: 0.8258\n",
      "Epoch 00007: saving model to model_init_2023-03-1107_46_31.799053/model-00007-0.46916-0.82579-4.48950-0.28000.h5\n",
      "34/34 [==============================] - 152s 5s/step - loss: 0.4692 - categorical_accuracy: 0.8258 - val_loss: 4.4895 - val_categorical_accuracy: 0.2800 - lr: 4.0000e-05\n",
      "Epoch 8/20\n",
      "34/34 [==============================] - ETA: 0s - loss: 0.4231 - categorical_accuracy: 0.8499\n",
      "Epoch 00008: saving model to model_init_2023-03-1107_46_31.799053/model-00008-0.42308-0.84992-4.16249-0.27000.h5\n",
      "34/34 [==============================] - 153s 5s/step - loss: 0.4231 - categorical_accuracy: 0.8499 - val_loss: 4.1625 - val_categorical_accuracy: 0.2700 - lr: 4.0000e-05\n",
      "Epoch 9/20\n",
      "34/34 [==============================] - ETA: 0s - loss: 0.4206 - categorical_accuracy: 0.8507\n",
      "Epoch 00009: saving model to model_init_2023-03-1107_46_31.799053/model-00009-0.42059-0.85068-4.63240-0.29000.h5\n",
      "\n",
      "Epoch 00009: ReduceLROnPlateau reducing learning rate to 7.999999797903002e-06.\n",
      "34/34 [==============================] - 152s 5s/step - loss: 0.4206 - categorical_accuracy: 0.8507 - val_loss: 4.6324 - val_categorical_accuracy: 0.2900 - lr: 4.0000e-05\n",
      "Epoch 10/20\n",
      "34/34 [==============================] - ETA: 0s - loss: 0.4031 - categorical_accuracy: 0.8514\n",
      "Epoch 00010: saving model to model_init_2023-03-1107_46_31.799053/model-00010-0.40312-0.85143-4.30690-0.28000.h5\n",
      "34/34 [==============================] - 151s 5s/step - loss: 0.4031 - categorical_accuracy: 0.8514 - val_loss: 4.3069 - val_categorical_accuracy: 0.2800 - lr: 8.0000e-06\n",
      "Epoch 11/20\n",
      "34/34 [==============================] - ETA: 0s - loss: 0.3926 - categorical_accuracy: 0.8635\n",
      "Epoch 00011: saving model to model_init_2023-03-1107_46_31.799053/model-00011-0.39264-0.86350-3.82828-0.29000.h5\n",
      "34/34 [==============================] - 153s 5s/step - loss: 0.3926 - categorical_accuracy: 0.8635 - val_loss: 3.8283 - val_categorical_accuracy: 0.2900 - lr: 8.0000e-06\n",
      "Epoch 00011: early stopping\n"
     ]
    }
   ],
   "source": [
    "print(\"Total Params:\", conv_3d6_model.count_params())\n",
    "history_model6=conv_3d6.train_model(conv_3d6_model,augment_data=True)"
   ]
  },
  {
   "cell_type": "code",
   "execution_count": 34,
   "metadata": {},
   "outputs": [
    {
     "data": {
      "image/png": "[encoded data removed]",
      "text/plain": [
       "<Figure size 1080x288 with 2 Axes>"
      ]
     },
     "metadata": {
      "needs_background": "light"
     },
     "output_type": "display_data"
    }
   ],
   "source": [
    "plot(history_model6)"
   ]
  },
  {
   "cell_type": "markdown",
   "metadata": {},
   "source": [
    "By reducing the number of parameters, model is overfitting"
   ]
  },
  {
   "cell_type": "markdown",
   "metadata": {},
   "source": [
    "## Model 7\n",
    "\n",
    "* Reducing the nuber of parameters Further"
   ]
  },
  {
   "cell_type": "code",
   "execution_count": 7,
   "metadata": {},
   "outputs": [],
   "source": [
    "class ModelConv3D7(ModelBuilder):\n",
    "    \n",
    "    def define_model(self,dense_neurons=64,dropout=0.25):\n",
    "\n",
    "        model = Sequential()\n",
    "        model.add(Conv3D(16, (3, 3, 3), padding='same',\n",
    "                 input_shape=(self.frames_to_sample,self.image_height,self.image_width,self.channels)))\n",
    "        model.add(Activation('relu'))\n",
    "        model.add(BatchNormalization())\n",
    "        model.add(MaxPooling3D(pool_size=(2, 2, 2)))\n",
    "\n",
    "        model.add(Conv3D(32, (3, 3, 3), padding='same'))\n",
    "        model.add(Activation('relu'))\n",
    "        model.add(BatchNormalization())\n",
    "        model.add(MaxPooling3D(pool_size=(2, 2, 2)))\n",
    "\n",
    "        model.add(Conv3D(64, (2, 2, 2), padding='same'))\n",
    "        model.add(Activation('relu'))\n",
    "        model.add(BatchNormalization())\n",
    "        model.add(MaxPooling3D(pool_size=(2, 2, 2)))\n",
    "\n",
    "        model.add(Conv3D(128, (2, 2, 2), padding='same'))\n",
    "        model.add(Activation('relu'))\n",
    "        model.add(BatchNormalization())\n",
    "        model.add(MaxPooling3D(pool_size=(2, 2, 2)))\n",
    "        \n",
    "        model.add(Flatten())\n",
    "        model.add(Dense(dense_neurons,activation='relu'))\n",
    "        model.add(BatchNormalization())\n",
    "        model.add(Dropout(dropout))\n",
    "\n",
    "        model.add(Dense(dense_neurons,activation='relu'))\n",
    "        model.add(BatchNormalization())\n",
    "        model.add(Dropout(dropout))\n",
    "\n",
    "        model.add(Dense(self.num_classes,activation='softmax'))\n",
    "\n",
    "        optimiser = tf.keras.optimizers.Adam(lr=0.0002)\n",
    "        model.compile(optimizer=optimiser, loss='categorical_crossentropy', metrics=['categorical_accuracy'])\n",
    "        return model"
   ]
  },
  {
   "cell_type": "code",
   "execution_count": 8,
   "metadata": {},
   "outputs": [
    {
     "name": "stdout",
     "output_type": "stream",
     "text": [
      "Model: \"sequential\"\n",
      "_________________________________________________________________\n",
      " Layer (type)                Output Shape              Param #   \n",
      "=================================================================\n",
      " conv3d (Conv3D)             (None, 16, 120, 120, 16)  1312      \n",
      "                                                                 \n",
      " activation (Activation)     (None, 16, 120, 120, 16)  0         \n",
      "                                                                 \n",
      " batch_normalization (BatchN  (None, 16, 120, 120, 16)  64       \n",
      " ormalization)                                                   \n",
      "                                                                 \n",
      " max_pooling3d (MaxPooling3D  (None, 8, 60, 60, 16)    0         \n",
      " )                                                               \n",
      "                                                                 \n",
      " conv3d_1 (Conv3D)           (None, 8, 60, 60, 32)     13856     \n",
      "                                                                 \n",
      " activation_1 (Activation)   (None, 8, 60, 60, 32)     0         \n",
      "                                                                 \n",
      " batch_normalization_1 (Batc  (None, 8, 60, 60, 32)    128       \n",
      " hNormalization)                                                 \n",
      "                                                                 \n",
      " max_pooling3d_1 (MaxPooling  (None, 4, 30, 30, 32)    0         \n",
      " 3D)                                                             \n",
      "                                                                 \n",
      " conv3d_2 (Conv3D)           (None, 4, 30, 30, 64)     16448     \n",
      "                                                                 \n",
      " activation_2 (Activation)   (None, 4, 30, 30, 64)     0         \n",
      "                                                                 \n",
      " batch_normalization_2 (Batc  (None, 4, 30, 30, 64)    256       \n",
      " hNormalization)                                                 \n",
      "                                                                 \n",
      " max_pooling3d_2 (MaxPooling  (None, 2, 15, 15, 64)    0         \n",
      " 3D)                                                             \n",
      "                                                                 \n",
      " conv3d_3 (Conv3D)           (None, 2, 15, 15, 128)    65664     \n",
      "                                                                 \n",
      " activation_3 (Activation)   (None, 2, 15, 15, 128)    0         \n",
      "                                                                 \n",
      " batch_normalization_3 (Batc  (None, 2, 15, 15, 128)   512       \n",
      " hNormalization)                                                 \n",
      "                                                                 \n",
      " max_pooling3d_3 (MaxPooling  (None, 1, 7, 7, 128)     0         \n",
      " 3D)                                                             \n",
      "                                                                 \n",
      " flatten (Flatten)           (None, 6272)              0         \n",
      "                                                                 \n",
      " dense (Dense)               (None, 64)                401472    \n",
      "                                                                 \n",
      " batch_normalization_4 (Batc  (None, 64)               256       \n",
      " hNormalization)                                                 \n",
      "                                                                 \n",
      " dropout (Dropout)           (None, 64)                0         \n",
      "                                                                 \n",
      " dense_1 (Dense)             (None, 64)                4160      \n",
      "                                                                 \n",
      " batch_normalization_5 (Batc  (None, 64)               256       \n",
      " hNormalization)                                                 \n",
      "                                                                 \n",
      " dropout_1 (Dropout)         (None, 64)                0         \n",
      "                                                                 \n",
      " dense_2 (Dense)             (None, 5)                 325       \n",
      "                                                                 \n",
      "=================================================================\n",
      "Total params: 504,709\n",
      "Trainable params: 503,973\n",
      "Non-trainable params: 736\n",
      "_________________________________________________________________\n"
     ]
    },
    {
     "name": "stderr",
     "output_type": "stream",
     "text": [
      "2023-03-11 08:33:44.107663: W tensorflow/core/common_runtime/gpu/gpu_bfc_allocator.cc:39] Overriding allow_growth setting because the TF_FORCE_GPU_ALLOW_GROWTH environment variable is set. Original config value was 0.\n",
      "2023-03-11 08:33:44.107723: I tensorflow/core/common_runtime/gpu/gpu_device.cc:1525] Created device /job:localhost/replica:0/task:0/device:GPU:0 with 14802 MB memory:  -> device: 0, name: Quadro RTX 5000, pci bus id: 0000:1c:00.0, compute capability: 7.5\n"
     ]
    }
   ],
   "source": [
    "conv_3d7=ModelConv3D7()\n",
    "conv_3d7.initialize_path(project_folder)\n",
    "conv_3d7.initialize_image_properties(image_height=120,image_width=120)\n",
    "conv_3d7.initialize_hyperparams(frames_to_sample=16,batch_size=20,num_epochs=25)\n",
    "conv_3d7_model=conv_3d7.define_model(dense_neurons=64,dropout=0.25)\n",
    "conv_3d7_model.summary()"
   ]
  },
  {
   "cell_type": "code",
   "execution_count": 9,
   "metadata": {},
   "outputs": [
    {
     "name": "stdout",
     "output_type": "stream",
     "text": [
      "Total Params: 504709\n",
      "WARNING:tensorflow:`period` argument is deprecated. Please use `save_freq` to specify the frequency in number of batches seen.\n",
      "Epoch 1/25\n"
     ]
    },
    {
     "name": "stderr",
     "output_type": "stream",
     "text": [
      "2023-03-11 08:33:59.688805: I tensorflow/stream_executor/cuda/cuda_dnn.cc:377] Loaded cuDNN version 8302\n"
     ]
    },
    {
     "name": "stdout",
     "output_type": "stream",
     "text": [
      "34/34 [==============================] - ETA: 0s - loss: 1.8221 - categorical_accuracy: 0.3303\n",
      "Epoch 00001: saving model to model_init_2023-03-1108_33_53.722447/model-00001-1.82205-0.33032-1.97430-0.21000.h5\n",
      "34/34 [==============================] - 162s 5s/step - loss: 1.8221 - categorical_accuracy: 0.3303 - val_loss: 1.9743 - val_categorical_accuracy: 0.2100 - lr: 2.0000e-04\n",
      "Epoch 2/25\n",
      "34/34 [==============================] - ETA: 0s - loss: 1.2493 - categorical_accuracy: 0.5204\n",
      "Epoch 00002: saving model to model_init_2023-03-1108_33_53.722447/model-00002-1.24933-0.52036-3.03847-0.19000.h5\n",
      "34/34 [==============================] - 161s 5s/step - loss: 1.2493 - categorical_accuracy: 0.5204 - val_loss: 3.0385 - val_categorical_accuracy: 0.1900 - lr: 2.0000e-04\n",
      "Epoch 3/25\n",
      "34/34 [==============================] - ETA: 0s - loss: 0.9911 - categorical_accuracy: 0.6244\n",
      "Epoch 00003: saving model to model_init_2023-03-1108_33_53.722447/model-00003-0.99105-0.62443-4.02623-0.22000.h5\n",
      "34/34 [==============================] - 158s 5s/step - loss: 0.9911 - categorical_accuracy: 0.6244 - val_loss: 4.0262 - val_categorical_accuracy: 0.2200 - lr: 2.0000e-04\n",
      "Epoch 4/25\n",
      "34/34 [==============================] - ETA: 0s - loss: 0.8762 - categorical_accuracy: 0.6621\n",
      "Epoch 00004: saving model to model_init_2023-03-1108_33_53.722447/model-00004-0.87623-0.66214-4.69513-0.22000.h5\n",
      "34/34 [==============================] - 160s 5s/step - loss: 0.8762 - categorical_accuracy: 0.6621 - val_loss: 4.6951 - val_categorical_accuracy: 0.2200 - lr: 2.0000e-04\n",
      "Epoch 5/25\n",
      "34/34 [==============================] - ETA: 0s - loss: 0.8390 - categorical_accuracy: 0.6855\n",
      "Epoch 00005: saving model to model_init_2023-03-1108_33_53.722447/model-00005-0.83898-0.68552-5.18324-0.21000.h5\n",
      "\n",
      "Epoch 00005: ReduceLROnPlateau reducing learning rate to 3.9999998989515007e-05.\n",
      "34/34 [==============================] - 160s 5s/step - loss: 0.8390 - categorical_accuracy: 0.6855 - val_loss: 5.1832 - val_categorical_accuracy: 0.2100 - lr: 2.0000e-04\n",
      "Epoch 6/25\n",
      "34/34 [==============================] - ETA: 0s - loss: 0.6795 - categorical_accuracy: 0.7383\n",
      "Epoch 00006: saving model to model_init_2023-03-1108_33_53.722447/model-00006-0.67954-0.73831-5.27209-0.21000.h5\n",
      "34/34 [==============================] - 157s 5s/step - loss: 0.6795 - categorical_accuracy: 0.7383 - val_loss: 5.2721 - val_categorical_accuracy: 0.2100 - lr: 4.0000e-05\n",
      "Epoch 7/25\n",
      "34/34 [==============================] - ETA: 0s - loss: 0.6778 - categorical_accuracy: 0.7541\n",
      "Epoch 00007: saving model to model_init_2023-03-1108_33_53.722447/model-00007-0.67782-0.75415-5.04730-0.23000.h5\n",
      "34/34 [==============================] - 160s 5s/step - loss: 0.6778 - categorical_accuracy: 0.7541 - val_loss: 5.0473 - val_categorical_accuracy: 0.2300 - lr: 4.0000e-05\n",
      "Epoch 8/25\n",
      "34/34 [==============================] - ETA: 0s - loss: 0.6468 - categorical_accuracy: 0.7609\n",
      "Epoch 00008: saving model to model_init_2023-03-1108_33_53.722447/model-00008-0.64678-0.76094-5.05322-0.22000.h5\n",
      "34/34 [==============================] - 160s 5s/step - loss: 0.6468 - categorical_accuracy: 0.7609 - val_loss: 5.0532 - val_categorical_accuracy: 0.2200 - lr: 4.0000e-05\n",
      "Epoch 9/25\n",
      "34/34 [==============================] - ETA: 0s - loss: 0.6307 - categorical_accuracy: 0.7790\n",
      "Epoch 00009: saving model to model_init_2023-03-1108_33_53.722447/model-00009-0.63068-0.77903-4.43751-0.24000.h5\n",
      "\n",
      "Epoch 00009: ReduceLROnPlateau reducing learning rate to 7.999999797903002e-06.\n",
      "34/34 [==============================] - 160s 5s/step - loss: 0.6307 - categorical_accuracy: 0.7790 - val_loss: 4.4375 - val_categorical_accuracy: 0.2400 - lr: 4.0000e-05\n",
      "Epoch 10/25\n",
      "34/34 [==============================] - ETA: 0s - loss: 0.6005 - categorical_accuracy: 0.7760\n",
      "Epoch 00010: saving model to model_init_2023-03-1108_33_53.722447/model-00010-0.60055-0.77602-4.14072-0.21000.h5\n",
      "34/34 [==============================] - 159s 5s/step - loss: 0.6005 - categorical_accuracy: 0.7760 - val_loss: 4.1407 - val_categorical_accuracy: 0.2100 - lr: 8.0000e-06\n",
      "Epoch 11/25\n",
      "34/34 [==============================] - ETA: 0s - loss: 0.6043 - categorical_accuracy: 0.7821\n",
      "Epoch 00011: saving model to model_init_2023-03-1108_33_53.722447/model-00011-0.60428-0.78205-3.61818-0.24000.h5\n",
      "34/34 [==============================] - 156s 5s/step - loss: 0.6043 - categorical_accuracy: 0.7821 - val_loss: 3.6182 - val_categorical_accuracy: 0.2400 - lr: 8.0000e-06\n",
      "Epoch 00011: early stopping\n"
     ]
    }
   ],
   "source": [
    "print(\"Total Params:\", conv_3d7_model.count_params())\n",
    "history_model7=conv_3d7.train_model(conv_3d7_model,augment_data=True)"
   ]
  },
  {
   "cell_type": "code",
   "execution_count": 10,
   "metadata": {},
   "outputs": [
    {
     "data": {
      "image/png": "[encoded data removed]",
      "text/plain": [
       "<Figure size 1080x288 with 2 Axes>"
      ]
     },
     "metadata": {
      "needs_background": "light"
     },
     "output_type": "display_data"
    }
   ],
   "source": [
    "plot(history_model7)"
   ]
  },
  {
   "cell_type": "markdown",
   "metadata": {},
   "source": [
    "Further as we reduce the number of parameters, the validation accuracy did not improve"
   ]
  },
  {
   "cell_type": "markdown",
   "metadata": {},
   "source": [
    "## Model 8 - CNN- LSTM Model"
   ]
  },
  {
   "cell_type": "code",
   "execution_count": 12,
   "metadata": {},
   "outputs": [],
   "source": [
    "class RNNCNN1(ModelBuilder):\n",
    "    \n",
    "    def define_model(self,lstm_cells=64,dense_neurons=64,dropout=0.25):\n",
    "\n",
    "        model = Sequential()\n",
    "\n",
    "        model.add(TimeDistributed(Conv2D(16, (3, 3) , padding='same', activation='relu'),\n",
    "                                  input_shape=(self.frames_to_sample,self.image_height,self.image_width,self.channels)))\n",
    "        model.add(TimeDistributed(BatchNormalization()))\n",
    "        model.add(TimeDistributed(MaxPooling2D((2, 2))))\n",
    "        \n",
    "        model.add(TimeDistributed(Conv2D(32, (3, 3) , padding='same', activation='relu')))\n",
    "        model.add(TimeDistributed(BatchNormalization()))\n",
    "        model.add(TimeDistributed(MaxPooling2D((2, 2))))\n",
    "        \n",
    "        model.add(TimeDistributed(Conv2D(64, (3, 3) , padding='same', activation='relu')))\n",
    "        model.add(TimeDistributed(BatchNormalization()))\n",
    "        model.add(TimeDistributed(MaxPooling2D((2, 2))))\n",
    "        \n",
    "        model.add(TimeDistributed(Conv2D(128, (3, 3) , padding='same', activation='relu')))\n",
    "        model.add(TimeDistributed(BatchNormalization()))\n",
    "        model.add(TimeDistributed(MaxPooling2D((2, 2))))\n",
    "        \n",
    "        model.add(TimeDistributed(Conv2D(256, (3, 3) , padding='same', activation='relu')))\n",
    "        model.add(TimeDistributed(BatchNormalization()))\n",
    "        model.add(TimeDistributed(MaxPooling2D((2, 2))))\n",
    "        \n",
    "        #model.add(TimeDistributed(Conv2D(512, (2, 2) , padding='valid', activation='relu')))\n",
    "       # model.add(TimeDistributed(BatchNormalization()))\n",
    "       # model.add(TimeDistributed(MaxPooling2D((2, 2))))\n",
    "\n",
    "        model.add(TimeDistributed(Flatten()))\n",
    "\n",
    "\n",
    "        model.add(LSTM(lstm_cells))\n",
    "        model.add(Dropout(dropout))\n",
    "        \n",
    "        model.add(Dense(dense_neurons,activation='relu'))\n",
    "        model.add(Dropout(dropout))\n",
    "        \n",
    "        model.add(Dense(self.num_classes, activation='softmax'))\n",
    "        optimiser = tf.keras.optimizers.SGD()\n",
    "        model.compile(optimizer=optimiser, loss='categorical_crossentropy', metrics=['categorical_accuracy'])\n",
    "        return model"
   ]
  },
  {
   "cell_type": "code",
   "execution_count": 13,
   "metadata": {},
   "outputs": [
    {
     "name": "stdout",
     "output_type": "stream",
     "text": [
      "Model: \"sequential_1\"\n",
      "_________________________________________________________________\n",
      " Layer (type)                Output Shape              Param #   \n",
      "=================================================================\n",
      " time_distributed (TimeDistr  (None, 18, 120, 120, 16)  448      \n",
      " ibuted)                                                         \n",
      "                                                                 \n",
      " time_distributed_1 (TimeDis  (None, 18, 120, 120, 16)  64       \n",
      " tributed)                                                       \n",
      "                                                                 \n",
      " time_distributed_2 (TimeDis  (None, 18, 60, 60, 16)   0         \n",
      " tributed)                                                       \n",
      "                                                                 \n",
      " time_distributed_3 (TimeDis  (None, 18, 60, 60, 32)   4640      \n",
      " tributed)                                                       \n",
      "                                                                 \n",
      " time_distributed_4 (TimeDis  (None, 18, 60, 60, 32)   128       \n",
      " tributed)                                                       \n",
      "                                                                 \n",
      " time_distributed_5 (TimeDis  (None, 18, 30, 30, 32)   0         \n",
      " tributed)                                                       \n",
      "                                                                 \n",
      " time_distributed_6 (TimeDis  (None, 18, 30, 30, 64)   18496     \n",
      " tributed)                                                       \n",
      "                                                                 \n",
      " time_distributed_7 (TimeDis  (None, 18, 30, 30, 64)   256       \n",
      " tributed)                                                       \n",
      "                                                                 \n",
      " time_distributed_8 (TimeDis  (None, 18, 15, 15, 64)   0         \n",
      " tributed)                                                       \n",
      "                                                                 \n",
      " time_distributed_9 (TimeDis  (None, 18, 15, 15, 128)  73856     \n",
      " tributed)                                                       \n",
      "                                                                 \n",
      " time_distributed_10 (TimeDi  (None, 18, 15, 15, 128)  512       \n",
      " stributed)                                                      \n",
      "                                                                 \n",
      " time_distributed_11 (TimeDi  (None, 18, 7, 7, 128)    0         \n",
      " stributed)                                                      \n",
      "                                                                 \n",
      " time_distributed_12 (TimeDi  (None, 18, 7, 7, 256)    295168    \n",
      " stributed)                                                      \n",
      "                                                                 \n",
      " time_distributed_13 (TimeDi  (None, 18, 7, 7, 256)    1024      \n",
      " stributed)                                                      \n",
      "                                                                 \n",
      " time_distributed_14 (TimeDi  (None, 18, 3, 3, 256)    0         \n",
      " stributed)                                                      \n",
      "                                                                 \n",
      " time_distributed_15 (TimeDi  (None, 18, 2304)         0         \n",
      " stributed)                                                      \n",
      "                                                                 \n",
      " lstm (LSTM)                 (None, 128)               1245696   \n",
      "                                                                 \n",
      " dropout_2 (Dropout)         (None, 128)               0         \n",
      "                                                                 \n",
      " dense_3 (Dense)             (None, 128)               16512     \n",
      "                                                                 \n",
      " dropout_3 (Dropout)         (None, 128)               0         \n",
      "                                                                 \n",
      " dense_4 (Dense)             (None, 5)                 645       \n",
      "                                                                 \n",
      "=================================================================\n",
      "Total params: 1,657,445\n",
      "Trainable params: 1,656,453\n",
      "Non-trainable params: 992\n",
      "_________________________________________________________________\n"
     ]
    }
   ],
   "source": [
    "rnn_cnn1=RNNCNN1()\n",
    "rnn_cnn1.initialize_path(project_folder)\n",
    "rnn_cnn1.initialize_image_properties(image_height=120,image_width=120)\n",
    "rnn_cnn1.initialize_hyperparams(frames_to_sample=18,batch_size=20,num_epochs=20)\n",
    "rnn_cnn1_model=rnn_cnn1.define_model(lstm_cells=128,dense_neurons=128,dropout=0.25)\n",
    "rnn_cnn1_model.summary()"
   ]
  },
  {
   "cell_type": "code",
   "execution_count": 14,
   "metadata": {},
   "outputs": [
    {
     "name": "stdout",
     "output_type": "stream",
     "text": [
      "Total Params: 1657445\n",
      "WARNING:tensorflow:`period` argument is deprecated. Please use `save_freq` to specify the frequency in number of batches seen.\n",
      "Epoch 1/20\n",
      "34/34 [==============================] - ETA: 0s - loss: 1.4372 - categorical_accuracy: 0.3756\n",
      "Epoch 00001: saving model to model_init_2023-03-1109_37_04.326097/model-00001-1.43722-0.37557-1.60273-0.21000.h5\n",
      "34/34 [==============================] - 184s 5s/step - loss: 1.4372 - categorical_accuracy: 0.3756 - val_loss: 1.6027 - val_categorical_accuracy: 0.2100 - lr: 0.0100\n",
      "Epoch 2/20\n",
      "34/34 [==============================] - ETA: 0s - loss: 1.1660 - categorical_accuracy: 0.5324\n",
      "Epoch 00002: saving model to model_init_2023-03-1109_37_04.326097/model-00002-1.16599-0.53243-1.64541-0.21000.h5\n",
      "34/34 [==============================] - 177s 5s/step - loss: 1.1660 - categorical_accuracy: 0.5324 - val_loss: 1.6454 - val_categorical_accuracy: 0.2100 - lr: 0.0100\n",
      "Epoch 3/20\n",
      "34/34 [==============================] - ETA: 0s - loss: 0.9853 - categorical_accuracy: 0.6403\n",
      "Epoch 00003: saving model to model_init_2023-03-1109_37_04.326097/model-00003-0.98530-0.64027-1.69097-0.24000.h5\n",
      "34/34 [==============================] - 175s 5s/step - loss: 0.9853 - categorical_accuracy: 0.6403 - val_loss: 1.6910 - val_categorical_accuracy: 0.2400 - lr: 0.0100\n",
      "Epoch 4/20\n",
      "34/34 [==============================] - ETA: 0s - loss: 0.8754 - categorical_accuracy: 0.6772\n",
      "Epoch 00004: saving model to model_init_2023-03-1109_37_04.326097/model-00004-0.87543-0.67722-1.80437-0.20000.h5\n",
      "34/34 [==============================] - 178s 5s/step - loss: 0.8754 - categorical_accuracy: 0.6772 - val_loss: 1.8044 - val_categorical_accuracy: 0.2000 - lr: 0.0100\n",
      "Epoch 5/20\n",
      "34/34 [==============================] - ETA: 0s - loss: 0.7609 - categorical_accuracy: 0.7255\n",
      "Epoch 00005: saving model to model_init_2023-03-1109_37_04.326097/model-00005-0.76087-0.72549-1.82072-0.21000.h5\n",
      "\n",
      "Epoch 00005: ReduceLROnPlateau reducing learning rate to 0.0019999999552965165.\n",
      "34/34 [==============================] - 181s 5s/step - loss: 0.7609 - categorical_accuracy: 0.7255 - val_loss: 1.8207 - val_categorical_accuracy: 0.2100 - lr: 0.0100\n",
      "Epoch 6/20\n",
      "34/34 [==============================] - ETA: 0s - loss: 0.7275 - categorical_accuracy: 0.7534\n",
      "Epoch 00006: saving model to model_init_2023-03-1109_37_04.326097/model-00006-0.72747-0.75339-1.94720-0.21000.h5\n",
      "34/34 [==============================] - 179s 5s/step - loss: 0.7275 - categorical_accuracy: 0.7534 - val_loss: 1.9472 - val_categorical_accuracy: 0.2100 - lr: 0.0020\n",
      "Epoch 7/20\n",
      "34/34 [==============================] - ETA: 0s - loss: 0.6035 - categorical_accuracy: 0.7805\n",
      "Epoch 00007: saving model to model_init_2023-03-1109_37_04.326097/model-00007-0.60349-0.78054-1.99675-0.24000.h5\n",
      "34/34 [==============================] - 179s 5s/step - loss: 0.6035 - categorical_accuracy: 0.7805 - val_loss: 1.9967 - val_categorical_accuracy: 0.2400 - lr: 0.0020\n",
      "Epoch 8/20\n",
      "34/34 [==============================] - ETA: 0s - loss: 0.5580 - categorical_accuracy: 0.8167\n",
      "Epoch 00008: saving model to model_init_2023-03-1109_37_04.326097/model-00008-0.55803-0.81674-2.12123-0.23000.h5\n",
      "34/34 [==============================] - 179s 5s/step - loss: 0.5580 - categorical_accuracy: 0.8167 - val_loss: 2.1212 - val_categorical_accuracy: 0.2300 - lr: 0.0020\n",
      "Epoch 9/20\n",
      "34/34 [==============================] - ETA: 0s - loss: 0.5329 - categorical_accuracy: 0.8333\n",
      "Epoch 00009: saving model to model_init_2023-03-1109_37_04.326097/model-00009-0.53293-0.83333-2.05657-0.26000.h5\n",
      "\n",
      "Epoch 00009: ReduceLROnPlateau reducing learning rate to 0.0003999999724328518.\n",
      "34/34 [==============================] - 175s 5s/step - loss: 0.5329 - categorical_accuracy: 0.8333 - val_loss: 2.0566 - val_categorical_accuracy: 0.2600 - lr: 0.0020\n",
      "Epoch 10/20\n",
      "34/34 [==============================] - ETA: 0s - loss: 0.5035 - categorical_accuracy: 0.8431\n",
      "Epoch 00010: saving model to model_init_2023-03-1109_37_04.326097/model-00010-0.50347-0.84314-2.02407-0.30000.h5\n",
      "34/34 [==============================] - 174s 5s/step - loss: 0.5035 - categorical_accuracy: 0.8431 - val_loss: 2.0241 - val_categorical_accuracy: 0.3000 - lr: 4.0000e-04\n",
      "Epoch 11/20\n",
      "34/34 [==============================] - ETA: 0s - loss: 0.4959 - categorical_accuracy: 0.8363\n",
      "Epoch 00011: saving model to model_init_2023-03-1109_37_04.326097/model-00011-0.49590-0.83635-1.91966-0.32000.h5\n",
      "34/34 [==============================] - 175s 5s/step - loss: 0.4959 - categorical_accuracy: 0.8363 - val_loss: 1.9197 - val_categorical_accuracy: 0.3200 - lr: 4.0000e-04\n",
      "Epoch 12/20\n",
      "34/34 [==============================] - ETA: 0s - loss: 0.4757 - categorical_accuracy: 0.8650\n",
      "Epoch 00012: saving model to model_init_2023-03-1109_37_04.326097/model-00012-0.47565-0.86501-1.65720-0.37000.h5\n",
      "34/34 [==============================] - 174s 5s/step - loss: 0.4757 - categorical_accuracy: 0.8650 - val_loss: 1.6572 - val_categorical_accuracy: 0.3700 - lr: 4.0000e-04\n",
      "Epoch 13/20\n",
      "34/34 [==============================] - ETA: 0s - loss: 0.4634 - categorical_accuracy: 0.8560\n",
      "Epoch 00013: saving model to model_init_2023-03-1109_37_04.326097/model-00013-0.46341-0.85596-1.46459-0.50000.h5\n",
      "34/34 [==============================] - 174s 5s/step - loss: 0.4634 - categorical_accuracy: 0.8560 - val_loss: 1.4646 - val_categorical_accuracy: 0.5000 - lr: 4.0000e-04\n",
      "Epoch 14/20\n",
      "34/34 [==============================] - ETA: 0s - loss: 0.4709 - categorical_accuracy: 0.8605\n",
      "Epoch 00014: saving model to model_init_2023-03-1109_37_04.326097/model-00014-0.47090-0.86048-1.21548-0.51000.h5\n",
      "34/34 [==============================] - 176s 5s/step - loss: 0.4709 - categorical_accuracy: 0.8605 - val_loss: 1.2155 - val_categorical_accuracy: 0.5100 - lr: 4.0000e-04\n",
      "Epoch 15/20\n",
      "34/34 [==============================] - ETA: 0s - loss: 0.4828 - categorical_accuracy: 0.8462\n",
      "Epoch 00015: saving model to model_init_2023-03-1109_37_04.326097/model-00015-0.48284-0.84615-0.98803-0.60000.h5\n",
      "34/34 [==============================] - 180s 5s/step - loss: 0.4828 - categorical_accuracy: 0.8462 - val_loss: 0.9880 - val_categorical_accuracy: 0.6000 - lr: 4.0000e-04\n",
      "Epoch 16/20\n",
      "34/34 [==============================] - ETA: 0s - loss: 0.4674 - categorical_accuracy: 0.8499\n",
      "Epoch 00016: saving model to model_init_2023-03-1109_37_04.326097/model-00016-0.46738-0.84992-0.90765-0.61000.h5\n",
      "34/34 [==============================] - 177s 5s/step - loss: 0.4674 - categorical_accuracy: 0.8499 - val_loss: 0.9077 - val_categorical_accuracy: 0.6100 - lr: 4.0000e-04\n",
      "Epoch 17/20\n",
      "34/34 [==============================] - ETA: 0s - loss: 0.4446 - categorical_accuracy: 0.8688\n",
      "Epoch 00017: saving model to model_init_2023-03-1109_37_04.326097/model-00017-0.44461-0.86878-0.81255-0.68000.h5\n",
      "34/34 [==============================] - 177s 5s/step - loss: 0.4446 - categorical_accuracy: 0.8688 - val_loss: 0.8126 - val_categorical_accuracy: 0.6800 - lr: 4.0000e-04\n",
      "Epoch 18/20\n",
      "34/34 [==============================] - ETA: 0s - loss: 0.4571 - categorical_accuracy: 0.8643\n",
      "Epoch 00018: saving model to model_init_2023-03-1109_37_04.326097/model-00018-0.45707-0.86425-0.72527-0.72000.h5\n",
      "34/34 [==============================] - 178s 5s/step - loss: 0.4571 - categorical_accuracy: 0.8643 - val_loss: 0.7253 - val_categorical_accuracy: 0.7200 - lr: 4.0000e-04\n",
      "Epoch 19/20\n",
      "34/34 [==============================] - ETA: 0s - loss: 0.4428 - categorical_accuracy: 0.8665\n",
      "Epoch 00019: saving model to model_init_2023-03-1109_37_04.326097/model-00019-0.44283-0.86652-0.76352-0.72000.h5\n",
      "34/34 [==============================] - 179s 5s/step - loss: 0.4428 - categorical_accuracy: 0.8665 - val_loss: 0.7635 - val_categorical_accuracy: 0.7200 - lr: 4.0000e-04\n",
      "Epoch 20/20\n",
      "34/34 [==============================] - ETA: 0s - loss: 0.4434 - categorical_accuracy: 0.8665\n",
      "Epoch 00020: saving model to model_init_2023-03-1109_37_04.326097/model-00020-0.44345-0.86652-0.69802-0.77000.h5\n",
      "34/34 [==============================] - 178s 5s/step - loss: 0.4434 - categorical_accuracy: 0.8665 - val_loss: 0.6980 - val_categorical_accuracy: 0.7700 - lr: 4.0000e-04\n"
     ]
    }
   ],
   "source": [
    "print(\"Total Params:\", rnn_cnn1_model.count_params())\n",
    "history_model8=rnn_cnn1.train_model(rnn_cnn1_model,augment_data=True)"
   ]
  },
  {
   "cell_type": "code",
   "execution_count": 15,
   "metadata": {},
   "outputs": [
    {
     "data": {
      "image/png": "[encoded data removed]",
      "text/plain": [
       "<Figure size 1080x288 with 2 Axes>"
      ]
     },
     "metadata": {
      "needs_background": "light"
     },
     "output_type": "display_data"
    }
   ],
   "source": [
    "plot(history_model8)"
   ]
  },
  {
   "cell_type": "markdown",
   "metadata": {},
   "source": [
    "For the above model we are getting the validation accuracy of 77%"
   ]
  },
  {
   "cell_type": "markdown",
   "metadata": {},
   "source": [
    "# 2. Final Model (End-to-end)"
   ]
  },
  {
   "cell_type": "markdown",
   "metadata": {},
   "source": [
    "-\tUsing (84X84) image frames\n",
    "-\tUpdated momentum 0.7 to 0.9 in SGD optimizer\n"
   ]
  },
  {
   "cell_type": "code",
   "execution_count": 2,
   "metadata": {},
   "outputs": [],
   "source": [
    "import numpy as np\n",
    "import os\n",
    "from imageio import imread\n",
    "from skimage.transform import resize\n",
    "import datetime\n",
    "import warnings\n",
    "warnings.filterwarnings(\"ignore\")\n",
    "import abc\n",
    "from sys import getsizeof\n",
    "\n",
    "import cv2\n",
    "import matplotlib.pyplot as plt\n",
    "%matplotlib inline\n",
    "\n",
    "# importing some other libraries which will be needed for model building.\n",
    "\n",
    "from keras.models import Sequential, Model\n",
    "from keras.layers import Dense, GRU, Flatten, TimeDistributed, Flatten, BatchNormalization, Activation\n",
    "from keras.layers.convolutional import Conv3D, MaxPooling3D, Conv2D, MaxPooling2D\n",
    "from keras.layers.recurrent import LSTM\n",
    "from keras.callbacks import ModelCheckpoint, ReduceLROnPlateau, EarlyStopping\n",
    "from keras import optimizers\n",
    "from keras.layers import Dropout"
   ]
  },
  {
   "cell_type": "markdown",
   "metadata": {},
   "source": [
    "We set the random seed so that the results don't vary drastically."
   ]
  },
  {
   "cell_type": "code",
   "execution_count": 3,
   "metadata": {},
   "outputs": [],
   "source": [
    "np.random.seed(30)\n",
    "import random as rn\n",
    "rn.seed(30)\n",
    "import tensorflow as tf\n",
    "tf.random.set_seed(30)"
   ]
  },
  {
   "cell_type": "markdown",
   "metadata": {},
   "source": [
    "In this block, you read the folder names for training and validation. You also set the batch_size here. Note that you set the batch size in such a way that you are able to use the GPU in full capacity. You keep increasing the batch size until the machine throws an error."
   ]
  },
  {
   "cell_type": "code",
   "execution_count": 18,
   "metadata": {},
   "outputs": [],
   "source": [
    "train_doc = np.random.permutation(open('/datasets/Project_data/train.csv').readlines())\n",
    "val_doc = np.random.permutation(open('/datasets/Project_data/val.csv').readlines())\n",
    "\n",
    "batch_size = 64 "
   ]
  },
  {
   "cell_type": "code",
   "execution_count": 19,
   "metadata": {},
   "outputs": [
    {
     "data": {
      "text/plain": [
       "100"
      ]
     },
     "execution_count": 19,
     "metadata": {},
     "output_type": "execute_result"
    }
   ],
   "source": [
    "len(val_doc)"
   ]
  },
  {
   "cell_type": "code",
   "execution_count": 20,
   "metadata": {},
   "outputs": [
    {
     "data": {
      "text/plain": [
       "663"
      ]
     },
     "execution_count": 20,
     "metadata": {},
     "output_type": "execute_result"
    }
   ],
   "source": [
    "len(train_doc)"
   ]
  },
  {
   "cell_type": "markdown",
   "metadata": {},
   "source": [
    "## Generator"
   ]
  },
  {
   "cell_type": "markdown",
   "metadata": {},
   "source": [
    "This is one of the most important part of the code. The overall structure of the generator has been given. In the generator, you are going to preprocess the images as you have images of 2 different dimensions as well as create a batch of video frames. You have to experiment with img_idx, y,z and normalization such that you get high accuracy."
   ]
  },
  {
   "cell_type": "code",
   "execution_count": 69,
   "metadata": {},
   "outputs": [],
   "source": [
    "import imageio\n",
    "\n",
    "def generator(source_path, folder_list, batch_size):\n",
    "    print( 'Source path = ', source_path, '; batch size =', batch_size)\n",
    "    img_idx = [0,1,2,4,6,8,10,12,14,16,18,20,22,24,26,27,28,29] #create a list of image numbers you want to use for a particular video\n",
    "    while True:\n",
    "        t = np.random.permutation(folder_list)\n",
    "        num_batches = len(source_path)//batch_size # calculate the number of batches\n",
    "        for batch in range(num_batches):\n",
    "            batch_data = np.zeros((batch_size,18,84,84,3)) # x is the number of images you use for each video, (y,z) is the final size of the input images and 3 is the number of channels RGB\n",
    "            batch_labels = np.zeros((batch_size,5)) # batch_labels is the one hot representation of the output\n",
    "            for folder in range(batch_size):\n",
    "                imgs = os.listdir('/' + source_path+'/'+ t[folder + (batch*batch_size)].split(';')[0]) # read all the images in the folder\n",
    "                for idx,item in enumerate(img_idx):\n",
    "                    image = imageio.imread(source_path+'/'+ t[folder + (batch*batch_size)].strip().split(';')[0]+'/'+imgs[item]).astype(np.float32)\n",
    "                    \n",
    "                    #crop the images and resize them. Note that the images are of 2 different shape \n",
    "                    #and the conv3D will throw error if the inputs in a batch have different shapes\n",
    "                    if image.shape[1] == 160:\n",
    "                        image = resize(image[:,20:140,:],(84,84)).astype(np.float32) #cropping the (120X160) image to make (120X120)\n",
    "                    else:\n",
    "                        print(\"\")\n",
    "                        image = resize(image,(84,84)).astype(np.float32)\n",
    "                    # Normalizing RGB image with mean subtraction \n",
    "                    batch_data[folder,idx,:,:,0] = image[:,:,0] - 104\n",
    "                    batch_data[folder,idx,:,:,1] = image[:,:,1] - 117\n",
    "                    batch_data[folder,idx,:,:,2] = image[:,:,2] - 123\n",
    "                    \n",
    "                batch_labels[folder, int(t[folder + (batch*batch_size)].strip().split(';')[2])] = 1\n",
    "            yield batch_data, batch_labels #you yield the batch_data and the batch_labels, remember what does yield do\n",
    "\n",
    "\n",
    "        \n",
    "        # write the code for the remaining data points which are left after full batches\n",
    "        if(len(t)%batch_size!=0):\n",
    "            batch_data = np.zeros((len(t)%batch_size,18,84,84,3)) # x is the number of images you use for each video, (y,z) is the final size of the input images and 3 is the number of channels RGB\n",
    "            batch_labels = np.zeros((len(t)%batch_size,5)) # batch_labels is the one hot representation of the output\n",
    "            for folder in range(len(t)%batch_size): # iterate over the batch_size\n",
    "                imgs = os.listdir(source_path+'/'+ t[folder + (num_batches*(len(t)%batch_size))].split(';')[0]) # read all the images in the folder\n",
    "                for idx,item in enumerate(img_idx): #  Iterate iver the frames/images of a folder to read them in\n",
    "                    image = imageio.imread('/' + source_path+'/'+ t[folder + (num_batches*(len(t)%batch_size))].strip().split(';')[0]+'/'+imgs[item]).astype(np.float32)\n",
    "                    \n",
    "                    #crop the images and resize them. Note that the images are of 2 different shape \n",
    "                    #and the conv3D will throw error if the inputs in a batch have different shapes\n",
    "\n",
    "                    if image.shape[1] == 160:\n",
    "                        image = resize(image[:,20:140,:],(84,84)).astype(np.float32)\n",
    "                    else:\n",
    "                        image = resize(image,(84,84)).astype(np.float32)\n",
    "                    # Normalizing RGB image with mean subtraction\n",
    "                    batch_data[folder,idx,:,:,0] = image[:,:,0] - 104\n",
    "                    batch_data[folder,idx,:,:,1] = image[:,:,1] - 117\n",
    "                    batch_data[folder,idx,:,:,2] = image[:,:,2] - 123\n",
    "                                        \n",
    "                batch_labels[folder, int(t[folder + (num_batches*(len(t)%batch_size))].strip().split(';')[2])] = 1\n",
    "            yield batch_data, batch_labels #you yield the batch_data and the batch_labels, remember what does yield do"
   ]
  },
  {
   "cell_type": "markdown",
   "metadata": {},
   "source": [
    "Note here that a video is represented above in the generator as (number of images, height, width, number of channels). Take this into consideration while creating the model architecture."
   ]
  },
  {
   "cell_type": "code",
   "execution_count": 70,
   "metadata": {},
   "outputs": [
    {
     "name": "stdout",
     "output_type": "stream",
     "text": [
      "# training sequences = 663\n",
      "# validation sequences = 100\n",
      "# epochs = 30\n"
     ]
    }
   ],
   "source": [
    "curr_dt_time = datetime.datetime.now()\n",
    "train_path = '/datasets/Project_data/train'\n",
    "val_path = '/datasets/Project_data/val'\n",
    "\n",
    "num_train_sequences = len(train_doc)\n",
    "print('# training sequences =', num_train_sequences)\n",
    "num_val_sequences = len(val_doc)\n",
    "print('# validation sequences =', num_val_sequences)\n",
    "num_epochs = 30 # choose the number of epochs\n",
    "print ('# epochs =', num_epochs)"
   ]
  },
  {
   "cell_type": "markdown",
   "metadata": {},
   "source": [
    "## Model"
   ]
  },
  {
   "cell_type": "markdown",
   "metadata": {},
   "source": [
    "Here you make the model using different functionalities that Keras provides. Remember to use Conv3D and MaxPooling3D and not Conv2D and Maxpooling2D for a 3D convolution model. You would want to use TimeDistributed while building a Conv2D + RNN model. Also remember that the last layer is the softmax. Design the network in such a way that the model is able to give good accuracy on the least number of parameters so that it can fit in the memory of the webcam."
   ]
  },
  {
   "cell_type": "code",
   "execution_count": 71,
   "metadata": {},
   "outputs": [],
   "source": [
    "from tensorflow.keras.models import Sequential, Model\n",
    "from tensorflow.keras.layers import Dense, GRU, Flatten, TimeDistributed, Flatten, BatchNormalization, Activation, Dropout\n",
    "\n",
    "from tensorflow.keras.layers import Conv3D, MaxPooling3D, Conv2D, MaxPooling2D\n",
    "from tensorflow.keras.callbacks import ModelCheckpoint, ReduceLROnPlateau\n",
    "from tensorflow.keras import optimizers\n",
    "from tensorflow.keras.optimizers import Adam\n",
    "\n",
    "#write your model here\n",
    "Input_shape = (18, 84, 84, 3)\n",
    "\n",
    "model = Sequential()\n",
    "model.add(Conv3D(64, (3,3,3), padding='same', input_shape=(18,84,84,3)))\n",
    "model.add(BatchNormalization())\n",
    "model.add(Activation('elu'))\n",
    "model.add(MaxPooling3D(pool_size=(2,2,1), strides=(2,2,1)))\n",
    "\n",
    "model.add(Conv3D(128, (3,3,3), padding='same'))\n",
    "model.add(BatchNormalization())\n",
    "model.add(Activation('elu'))\n",
    "model.add(MaxPooling3D(pool_size=(2,2,2), strides=(2,2,2)))\n",
    "\n",
    "model.add(Conv3D(256, (3,3,3), padding='same'))\n",
    "model.add(BatchNormalization())\n",
    "model.add(Activation('elu'))\n",
    "model.add(MaxPooling3D(pool_size=(2,2,2), strides=(2,2,2)))\n",
    "\n",
    "model.add(Conv3D(256, (3,3,3), padding='same'))\n",
    "model.add(BatchNormalization())\n",
    "model.add(Activation('elu'))\n",
    "model.add(MaxPooling3D(pool_size=(2,2,2), strides=(2,2,2)))\n",
    "\n",
    "model.add(Flatten())\n",
    "model.add(Dropout(0.5))\n",
    "model.add(Dense(512, activation='elu'))\n",
    "model.add(Dropout(0.5))\n",
    "model.add(Dense(5, activation='softmax'))"
   ]
  },
  {
   "cell_type": "markdown",
   "metadata": {},
   "source": [
    "Now that you have written the model, the next step is to `compile` the model. When you print the `summary` of the model, you'll see the total number of parameters you have to train."
   ]
  },
  {
   "cell_type": "code",
   "execution_count": 72,
   "metadata": {},
   "outputs": [
    {
     "name": "stdout",
     "output_type": "stream",
     "text": [
      "Model: \"sequential_7\"\n",
      "_________________________________________________________________\n",
      " Layer (type)                Output Shape              Param #   \n",
      "=================================================================\n",
      " conv3d_28 (Conv3D)          (None, 18, 84, 84, 64)    5248      \n",
      "                                                                 \n",
      " batch_normalization_28 (Bat  (None, 18, 84, 84, 64)   256       \n",
      " chNormalization)                                                \n",
      "                                                                 \n",
      " activation_28 (Activation)  (None, 18, 84, 84, 64)    0         \n",
      "                                                                 \n",
      " max_pooling3d_28 (MaxPoolin  (None, 9, 42, 84, 64)    0         \n",
      " g3D)                                                            \n",
      "                                                                 \n",
      " conv3d_29 (Conv3D)          (None, 9, 42, 84, 128)    221312    \n",
      "                                                                 \n",
      " batch_normalization_29 (Bat  (None, 9, 42, 84, 128)   512       \n",
      " chNormalization)                                                \n",
      "                                                                 \n",
      " activation_29 (Activation)  (None, 9, 42, 84, 128)    0         \n",
      "                                                                 \n",
      " max_pooling3d_29 (MaxPoolin  (None, 4, 21, 42, 128)   0         \n",
      " g3D)                                                            \n",
      "                                                                 \n",
      " conv3d_30 (Conv3D)          (None, 4, 21, 42, 256)    884992    \n",
      "                                                                 \n",
      " batch_normalization_30 (Bat  (None, 4, 21, 42, 256)   1024      \n",
      " chNormalization)                                                \n",
      "                                                                 \n",
      " activation_30 (Activation)  (None, 4, 21, 42, 256)    0         \n",
      "                                                                 \n",
      " max_pooling3d_30 (MaxPoolin  (None, 2, 10, 21, 256)   0         \n",
      " g3D)                                                            \n",
      "                                                                 \n",
      " conv3d_31 (Conv3D)          (None, 2, 10, 21, 256)    1769728   \n",
      "                                                                 \n",
      " batch_normalization_31 (Bat  (None, 2, 10, 21, 256)   1024      \n",
      " chNormalization)                                                \n",
      "                                                                 \n",
      " activation_31 (Activation)  (None, 2, 10, 21, 256)    0         \n",
      "                                                                 \n",
      " max_pooling3d_31 (MaxPoolin  (None, 1, 5, 10, 256)    0         \n",
      " g3D)                                                            \n",
      "                                                                 \n",
      " flatten_7 (Flatten)         (None, 12800)             0         \n",
      "                                                                 \n",
      " dropout_14 (Dropout)        (None, 12800)             0         \n",
      "                                                                 \n",
      " dense_14 (Dense)            (None, 512)               6554112   \n",
      "                                                                 \n",
      " dropout_15 (Dropout)        (None, 512)               0         \n",
      "                                                                 \n",
      " dense_15 (Dense)            (None, 5)                 2565      \n",
      "                                                                 \n",
      "=================================================================\n",
      "Total params: 9,440,773\n",
      "Trainable params: 9,439,365\n",
      "Non-trainable params: 1,408\n",
      "_________________________________________________________________\n",
      "None\n"
     ]
    }
   ],
   "source": [
    "optimiser = optimizers.SGD(lr=0.001, decay=1e-6, momentum=0.9, nesterov=True)\n",
    "model.compile(optimizer=optimiser, loss='categorical_crossentropy', metrics=['categorical_accuracy'],run_eagerly=True)\n",
    "print (model.summary())"
   ]
  },
  {
   "cell_type": "markdown",
   "metadata": {},
   "source": [
    "Let us create the train_generator and the val_generator which will be used in .fit_generator."
   ]
  },
  {
   "cell_type": "code",
   "execution_count": 73,
   "metadata": {},
   "outputs": [],
   "source": [
    "batch_size = 64\n",
    "\n",
    "train_generator = generator(train_path, train_doc, batch_size)\n",
    "val_generator = generator(val_path, val_doc, batch_size)"
   ]
  },
  {
   "cell_type": "code",
   "execution_count": 74,
   "metadata": {},
   "outputs": [
    {
     "name": "stdout",
     "output_type": "stream",
     "text": [
      "WARNING:tensorflow:`period` argument is deprecated. Please use `save_freq` to specify the frequency in number of batches seen.\n"
     ]
    }
   ],
   "source": [
    "model_name = 'model_init' + '_' + str(curr_dt_time).replace(' ','').replace(':','_') + '/'\n",
    "    \n",
    "if not os.path.exists(model_name):\n",
    "    os.mkdir(model_name)\n",
    "        \n",
    "filepath = model_name + 'model-{epoch:05d}-{loss:.5f}-{categorical_accuracy:.5f}-{val_loss:.5f}-{val_categorical_accuracy:.5f}.h5'\n",
    "\n",
    "checkpoint = ModelCheckpoint(filepath, monitor='val_loss', verbose=1, save_best_only=False, save_weights_only=False, mode='auto', period=1)\n",
    "\n",
    "LR = ReduceLROnPlateau(monitor='val_loss', factor=0.5, patience=2, verbose=1, mode='min', min_delta=0.0001, cooldown=0, min_lr=0.00001)\n",
    "callbacks_list = [checkpoint, LR]"
   ]
  },
  {
   "cell_type": "markdown",
   "metadata": {},
   "source": [
    "The steps_per_epoch and validation_steps are used by fit_generator to decide the number of next() calls it need to make"
   ]
  },
  {
   "cell_type": "code",
   "execution_count": 75,
   "metadata": {},
   "outputs": [],
   "source": [
    "if (num_train_sequences%batch_size) == 0:\n",
    "    steps_per_epoch = int(num_train_sequences/batch_size)\n",
    "else:\n",
    "    steps_per_epoch = (num_train_sequences//batch_size) + 1\n",
    "\n",
    "if (num_val_sequences%batch_size) == 0:\n",
    "    validation_steps = int(num_val_sequences/batch_size)\n",
    "else:\n",
    "    validation_steps = (num_val_sequences//batch_size) + 1"
   ]
  },
  {
   "cell_type": "markdown",
   "metadata": {},
   "source": [
    "Let us now fit the model. This will start training the model and with the help of the checkpoints, you'll be able to save the model at the end of each epoch."
   ]
  },
  {
   "cell_type": "code",
   "execution_count": 76,
   "metadata": {},
   "outputs": [
    {
     "name": "stdout",
     "output_type": "stream",
     "text": [
      "Source path =  /datasets/Project_data/train ; batch size = 64\n",
      "Epoch 1/30\n"
     ]
    },
    {
     "name": "stderr",
     "output_type": "stream",
     "text": [
      "2023-03-11 15:55:30.416872: I tensorflow/stream_executor/cuda/cuda_dnn.cc:377] Loaded cuDNN version 8302\n"
     ]
    },
    {
     "name": "stdout",
     "output_type": "stream",
     "text": [
      "11/11 [==============================] - ETA: 0s - loss: 4.5986 - categorical_accuracy: 0.2885Source path =  /datasets/Project_data/val ; batch size = 64\n",
      "\n",
      "Epoch 00001: saving model to model_init_2023-03-1115_55_20.934323/model-00001-4.59864-0.28854-21.61062-0.19444.h5\n",
      "11/11 [==============================] - 46s 4s/step - loss: 4.5986 - categorical_accuracy: 0.2885 - val_loss: 21.6106 - val_categorical_accuracy: 0.1944 - lr: 0.0010\n",
      "Epoch 2/30\n",
      "11/11 [==============================] - ETA: 0s - loss: 2.3160 - categorical_accuracy: 0.4506\n",
      "Epoch 00002: saving model to model_init_2023-03-1115_55_20.934323/model-00002-2.31600-0.45059-23.07384-0.23611.h5\n",
      "11/11 [==============================] - 44s 4s/step - loss: 2.3160 - categorical_accuracy: 0.4506 - val_loss: 23.0738 - val_categorical_accuracy: 0.2361 - lr: 0.0010\n",
      "Epoch 3/30\n",
      "11/11 [==============================] - ETA: 0s - loss: 1.9217 - categorical_accuracy: 0.4901\n",
      "Epoch 00003: saving model to model_init_2023-03-1115_55_20.934323/model-00003-1.92169-0.49012-20.45590-0.25000.h5\n",
      "11/11 [==============================] - 43s 4s/step - loss: 1.9217 - categorical_accuracy: 0.4901 - val_loss: 20.4559 - val_categorical_accuracy: 0.2500 - lr: 0.0010\n",
      "Epoch 4/30\n",
      "11/11 [==============================] - ETA: 0s - loss: 1.4990 - categorical_accuracy: 0.5573\n",
      "Epoch 00004: saving model to model_init_2023-03-1115_55_20.934323/model-00004-1.49897-0.55731-17.86081-0.25000.h5\n",
      "11/11 [==============================] - 44s 4s/step - loss: 1.4990 - categorical_accuracy: 0.5573 - val_loss: 17.8608 - val_categorical_accuracy: 0.2500 - lr: 0.0010\n",
      "Epoch 5/30\n",
      "11/11 [==============================] - ETA: 0s - loss: 1.2046 - categorical_accuracy: 0.5929\n",
      "Epoch 00005: saving model to model_init_2023-03-1115_55_20.934323/model-00005-1.20462-0.59289-12.39162-0.22222.h5\n",
      "11/11 [==============================] - 43s 4s/step - loss: 1.2046 - categorical_accuracy: 0.5929 - val_loss: 12.3916 - val_categorical_accuracy: 0.2222 - lr: 0.0010\n",
      "Epoch 6/30\n",
      "11/11 [==============================] - ETA: 0s - loss: 1.0545 - categorical_accuracy: 0.6482\n",
      "Epoch 00006: saving model to model_init_2023-03-1115_55_20.934323/model-00006-1.05446-0.64822-9.16479-0.16667.h5\n",
      "11/11 [==============================] - 44s 4s/step - loss: 1.0545 - categorical_accuracy: 0.6482 - val_loss: 9.1648 - val_categorical_accuracy: 0.1667 - lr: 0.0010\n",
      "Epoch 7/30\n",
      "11/11 [==============================] - ETA: 0s - loss: 1.1965 - categorical_accuracy: 0.5731\n",
      "Epoch 00007: saving model to model_init_2023-03-1115_55_20.934323/model-00007-1.19647-0.57312-5.11823-0.40278.h5\n",
      "11/11 [==============================] - 45s 4s/step - loss: 1.1965 - categorical_accuracy: 0.5731 - val_loss: 5.1182 - val_categorical_accuracy: 0.4028 - lr: 0.0010\n",
      "Epoch 8/30\n",
      "11/11 [==============================] - ETA: 0s - loss: 0.8674 - categorical_accuracy: 0.6917\n",
      "Epoch 00008: saving model to model_init_2023-03-1115_55_20.934323/model-00008-0.86744-0.69170-7.09531-0.26389.h5\n",
      "11/11 [==============================] - 44s 4s/step - loss: 0.8674 - categorical_accuracy: 0.6917 - val_loss: 7.0953 - val_categorical_accuracy: 0.2639 - lr: 0.0010\n",
      "Epoch 9/30\n",
      "11/11 [==============================] - ETA: 0s - loss: 0.9451 - categorical_accuracy: 0.6759\n",
      "Epoch 00009: saving model to model_init_2023-03-1115_55_20.934323/model-00009-0.94509-0.67589-5.67490-0.26389.h5\n",
      "\n",
      "Epoch 00009: ReduceLROnPlateau reducing learning rate to 0.0005000000237487257.\n",
      "11/11 [==============================] - 45s 4s/step - loss: 0.9451 - categorical_accuracy: 0.6759 - val_loss: 5.6749 - val_categorical_accuracy: 0.2639 - lr: 0.0010\n",
      "Epoch 10/30\n",
      "11/11 [==============================] - ETA: 0s - loss: 1.0587 - categorical_accuracy: 0.6601\n",
      "Epoch 00010: saving model to model_init_2023-03-1115_55_20.934323/model-00010-1.05870-0.66008-2.51466-0.31944.h5\n",
      "11/11 [==============================] - 45s 4s/step - loss: 1.0587 - categorical_accuracy: 0.6601 - val_loss: 2.5147 - val_categorical_accuracy: 0.3194 - lr: 5.0000e-04\n",
      "Epoch 11/30\n",
      "11/11 [==============================] - ETA: 0s - loss: 0.7744 - categorical_accuracy: 0.6838\n",
      "Epoch 00011: saving model to model_init_2023-03-1115_55_20.934323/model-00011-0.77442-0.68379-2.50969-0.52778.h5\n",
      "11/11 [==============================] - 45s 4s/step - loss: 0.7744 - categorical_accuracy: 0.6838 - val_loss: 2.5097 - val_categorical_accuracy: 0.5278 - lr: 5.0000e-04\n",
      "Epoch 12/30\n",
      "11/11 [==============================] - ETA: 0s - loss: 0.7828 - categorical_accuracy: 0.6877\n",
      "Epoch 00012: saving model to model_init_2023-03-1115_55_20.934323/model-00012-0.78285-0.68775-2.06568-0.43056.h5\n",
      "11/11 [==============================] - 44s 4s/step - loss: 0.7828 - categorical_accuracy: 0.6877 - val_loss: 2.0657 - val_categorical_accuracy: 0.4306 - lr: 5.0000e-04\n",
      "Epoch 13/30\n",
      "11/11 [==============================] - ETA: 0s - loss: 0.6574 - categorical_accuracy: 0.7668\n",
      "Epoch 00013: saving model to model_init_2023-03-1115_55_20.934323/model-00013-0.65740-0.76680-1.54122-0.55556.h5\n",
      "11/11 [==============================] - 43s 4s/step - loss: 0.6574 - categorical_accuracy: 0.7668 - val_loss: 1.5412 - val_categorical_accuracy: 0.5556 - lr: 5.0000e-04\n",
      "Epoch 14/30\n",
      "11/11 [==============================] - ETA: 0s - loss: 0.6083 - categorical_accuracy: 0.7628\n",
      "Epoch 00014: saving model to model_init_2023-03-1115_55_20.934323/model-00014-0.60830-0.76285-1.06640-0.66667.h5\n",
      "11/11 [==============================] - 43s 4s/step - loss: 0.6083 - categorical_accuracy: 0.7628 - val_loss: 1.0664 - val_categorical_accuracy: 0.6667 - lr: 5.0000e-04\n",
      "Epoch 15/30\n",
      "11/11 [==============================] - ETA: 0s - loss: 0.6668 - categorical_accuracy: 0.7628\n",
      "Epoch 00015: saving model to model_init_2023-03-1115_55_20.934323/model-00015-0.66683-0.76285-0.98040-0.70833.h5\n",
      "11/11 [==============================] - 44s 4s/step - loss: 0.6668 - categorical_accuracy: 0.7628 - val_loss: 0.9804 - val_categorical_accuracy: 0.7083 - lr: 5.0000e-04\n",
      "Epoch 16/30\n",
      "11/11 [==============================] - ETA: 0s - loss: 0.6752 - categorical_accuracy: 0.7787\n",
      "Epoch 00016: saving model to model_init_2023-03-1115_55_20.934323/model-00016-0.67515-0.77866-1.08157-0.63889.h5\n",
      "11/11 [==============================] - 44s 4s/step - loss: 0.6752 - categorical_accuracy: 0.7787 - val_loss: 1.0816 - val_categorical_accuracy: 0.6389 - lr: 5.0000e-04\n",
      "Epoch 17/30\n",
      "11/11 [==============================] - ETA: 0s - loss: 0.6745 - categorical_accuracy: 0.7391\n",
      "Epoch 00017: saving model to model_init_2023-03-1115_55_20.934323/model-00017-0.67448-0.73913-0.52562-0.80556.h5\n",
      "11/11 [==============================] - 44s 4s/step - loss: 0.6745 - categorical_accuracy: 0.7391 - val_loss: 0.5256 - val_categorical_accuracy: 0.8056 - lr: 5.0000e-04\n",
      "Epoch 18/30\n",
      "11/11 [==============================] - ETA: 0s - loss: 0.5196 - categorical_accuracy: 0.7708\n",
      "Epoch 00018: saving model to model_init_2023-03-1115_55_20.934323/model-00018-0.51964-0.77075-0.69378-0.70833.h5\n",
      "11/11 [==============================] - 42s 4s/step - loss: 0.5196 - categorical_accuracy: 0.7708 - val_loss: 0.6938 - val_categorical_accuracy: 0.7083 - lr: 5.0000e-04\n",
      "Epoch 19/30\n",
      "11/11 [==============================] - ETA: 0s - loss: 0.5131 - categorical_accuracy: 0.8103\n",
      "Epoch 00019: saving model to model_init_2023-03-1115_55_20.934323/model-00019-0.51313-0.81028-0.47505-0.88889.h5\n",
      "11/11 [==============================] - 46s 5s/step - loss: 0.5131 - categorical_accuracy: 0.8103 - val_loss: 0.4751 - val_categorical_accuracy: 0.8889 - lr: 5.0000e-04\n",
      "Epoch 20/30\n",
      "11/11 [==============================] - ETA: 0s - loss: 0.5060 - categorical_accuracy: 0.8103\n",
      "Epoch 00020: saving model to model_init_2023-03-1115_55_20.934323/model-00020-0.50599-0.81028-0.70445-0.81944.h5\n",
      "11/11 [==============================] - 44s 4s/step - loss: 0.5060 - categorical_accuracy: 0.8103 - val_loss: 0.7045 - val_categorical_accuracy: 0.8194 - lr: 5.0000e-04\n",
      "Epoch 21/30\n",
      "11/11 [==============================] - ETA: 0s - loss: 0.5113 - categorical_accuracy: 0.8103\n",
      "Epoch 00021: saving model to model_init_2023-03-1115_55_20.934323/model-00021-0.51135-0.81028-0.63505-0.77778.h5\n",
      "\n",
      "Epoch 00021: ReduceLROnPlateau reducing learning rate to 0.0002500000118743628.\n",
      "11/11 [==============================] - 45s 4s/step - loss: 0.5113 - categorical_accuracy: 0.8103 - val_loss: 0.6350 - val_categorical_accuracy: 0.7778 - lr: 5.0000e-04\n",
      "Epoch 22/30\n",
      "11/11 [==============================] - ETA: 0s - loss: 0.5059 - categorical_accuracy: 0.8063\n",
      "Epoch 00022: saving model to model_init_2023-03-1115_55_20.934323/model-00022-0.50588-0.80632-0.63026-0.81944.h5\n",
      "11/11 [==============================] - 43s 4s/step - loss: 0.5059 - categorical_accuracy: 0.8063 - val_loss: 0.6303 - val_categorical_accuracy: 0.8194 - lr: 2.5000e-04\n",
      "Epoch 23/30\n",
      "11/11 [==============================] - ETA: 0s - loss: 0.4509 - categorical_accuracy: 0.8221\n",
      "Epoch 00023: saving model to model_init_2023-03-1115_55_20.934323/model-00023-0.45092-0.82213-0.61431-0.80556.h5\n",
      "\n",
      "Epoch 00023: ReduceLROnPlateau reducing learning rate to 0.0001250000059371814.\n",
      "11/11 [==============================] - 45s 4s/step - loss: 0.4509 - categorical_accuracy: 0.8221 - val_loss: 0.6143 - val_categorical_accuracy: 0.8056 - lr: 2.5000e-04\n",
      "Epoch 24/30\n",
      "11/11 [==============================] - ETA: 0s - loss: 0.4460 - categorical_accuracy: 0.8458\n",
      "Epoch 00024: saving model to model_init_2023-03-1115_55_20.934323/model-00024-0.44595-0.84585-0.66389-0.76389.h5\n",
      "11/11 [==============================] - 42s 4s/step - loss: 0.4460 - categorical_accuracy: 0.8458 - val_loss: 0.6639 - val_categorical_accuracy: 0.7639 - lr: 1.2500e-04\n",
      "Epoch 25/30\n",
      "11/11 [==============================] - ETA: 0s - loss: 0.3683 - categorical_accuracy: 0.8577\n",
      "Epoch 00025: saving model to model_init_2023-03-1115_55_20.934323/model-00025-0.36831-0.85771-0.80881-0.77778.h5\n",
      "\n",
      "Epoch 00025: ReduceLROnPlateau reducing learning rate to 6.25000029685907e-05.\n",
      "11/11 [==============================] - 43s 4s/step - loss: 0.3683 - categorical_accuracy: 0.8577 - val_loss: 0.8088 - val_categorical_accuracy: 0.7778 - lr: 1.2500e-04\n",
      "Epoch 26/30\n",
      "11/11 [==============================] - ETA: 0s - loss: 0.3741 - categorical_accuracy: 0.8617\n",
      "Epoch 00026: saving model to model_init_2023-03-1115_55_20.934323/model-00026-0.37409-0.86166-0.69205-0.75000.h5\n",
      "11/11 [==============================] - 44s 4s/step - loss: 0.3741 - categorical_accuracy: 0.8617 - val_loss: 0.6920 - val_categorical_accuracy: 0.7500 - lr: 6.2500e-05\n",
      "Epoch 27/30\n",
      "11/11 [==============================] - ETA: 0s - loss: 0.4464 - categorical_accuracy: 0.8379\n",
      "Epoch 00027: saving model to model_init_2023-03-1115_55_20.934323/model-00027-0.44639-0.83794-0.73713-0.77778.h5\n",
      "\n",
      "Epoch 00027: ReduceLROnPlateau reducing learning rate to 3.125000148429535e-05.\n",
      "11/11 [==============================] - 48s 5s/step - loss: 0.4464 - categorical_accuracy: 0.8379 - val_loss: 0.7371 - val_categorical_accuracy: 0.7778 - lr: 6.2500e-05\n",
      "Epoch 28/30\n",
      "11/11 [==============================] - ETA: 0s - loss: 0.3728 - categorical_accuracy: 0.8814\n",
      "Epoch 00028: saving model to model_init_2023-03-1115_55_20.934323/model-00028-0.37275-0.88142-0.74231-0.80556.h5\n",
      "11/11 [==============================] - 44s 4s/step - loss: 0.3728 - categorical_accuracy: 0.8814 - val_loss: 0.7423 - val_categorical_accuracy: 0.8056 - lr: 3.1250e-05\n",
      "Epoch 29/30\n",
      "11/11 [==============================] - ETA: 0s - loss: 0.4492 - categorical_accuracy: 0.8261\n",
      "Epoch 00029: saving model to model_init_2023-03-1115_55_20.934323/model-00029-0.44925-0.82609-0.40449-0.88889.h5\n",
      "11/11 [==============================] - 46s 5s/step - loss: 0.4492 - categorical_accuracy: 0.8261 - val_loss: 0.4045 - val_categorical_accuracy: 0.8889 - lr: 3.1250e-05\n",
      "Epoch 30/30\n",
      "11/11 [==============================] - ETA: 0s - loss: 0.3372 - categorical_accuracy: 0.8854\n",
      "Epoch 00030: saving model to model_init_2023-03-1115_55_20.934323/model-00030-0.33720-0.88538-0.56867-0.83333.h5\n",
      "11/11 [==============================] - 43s 4s/step - loss: 0.3372 - categorical_accuracy: 0.8854 - val_loss: 0.5687 - val_categorical_accuracy: 0.8333 - lr: 3.1250e-05\n"
     ]
    }
   ],
   "source": [
    "history = model.fit(train_generator, steps_per_epoch=steps_per_epoch, epochs=num_epochs, verbose=1, \n",
    "                    callbacks=callbacks_list, validation_data=val_generator, \n",
    "                    validation_steps=validation_steps, class_weight=None, workers=1, initial_epoch=0)"
   ]
  },
  {
   "cell_type": "code",
   "execution_count": 77,
   "metadata": {},
   "outputs": [
    {
     "data": {
      "text/plain": [
       "<matplotlib.legend.Legend at 0x7f69f02c3ac0>"
      ]
     },
     "execution_count": 77,
     "metadata": {},
     "output_type": "execute_result"
    },
    {
     "data": {
      "image/png": "[encoded data removed]",
      "text/plain": [
       "<Figure size 1152x288 with 2 Axes>"
      ]
     },
     "metadata": {
      "needs_background": "light"
     },
     "output_type": "display_data"
    }
   ],
   "source": [
    "fig, axes = plt.subplots(nrows=1, ncols=2, figsize=(16,4))\n",
    "axes[0].plot(history.history['categorical_accuracy'])   \n",
    "axes[0].plot(history.history['val_categorical_accuracy'])\n",
    "axes[0].legend(['categorical_accuracy','val_categorical_accuracy'])\n",
    "\n",
    "axes[1].plot(history.history['loss'])   \n",
    "axes[1].plot(history.history['val_loss'])\n",
    "axes[1].legend(['loss','val_loss'])"
   ]
  },
  {
   "cell_type": "markdown",
   "metadata": {},
   "source": [
    "For this model, we are getting best training accuracy of 88.54% and a validation accuracy of 83.33%\n",
    "Validation loss significantly reduced and with fewer oscillations"
   ]
  },
  {
   "cell_type": "code",
   "execution_count": null,
   "metadata": {},
   "outputs": [],
   "source": []
  }
 ],
 "metadata": {
  "kernelspec": {
   "display_name": "Python 3 (ipykernel)",
   "language": "python",
   "name": "python3"
  },
  "language_info": {
   "codemirror_mode": {
    "name": "ipython",
    "version": 3
   },
   "file_extension": ".py",
   "mimetype": "text/x-python",
   "name": "python",
   "nbconvert_exporter": "python",
   "pygments_lexer": "ipython3",
   "version": "3.8.10"
  }
 },
 "nbformat": 4,
 "nbformat_minor": 4
}
